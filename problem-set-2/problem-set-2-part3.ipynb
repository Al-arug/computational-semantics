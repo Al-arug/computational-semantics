{
 "cells": [
  {
   "cell_type": "markdown",
   "metadata": {},
   "source": [
    "# Problem Set 2 - Part 3 (VG): Ambiguity and Inference\n",
    "\n",
    "This lab should be completed individually.\n",
    "\n",
    "It extend the topics in the previous two parts with additional questions.\n",
    "\n",
    "This assignment has 27 marks in total.\n",
    "\n",
    "### Pre-requisite knowledge\n",
    "\n",
    "From `problem-set-1`:\n",
    "- First order logic\n",
    "- Lambda calculus\n",
    "- Feature unification context free grammar\n",
    "\n",
    "From `problem-set-2-part1.ipynb`:\n",
    "- Cooper storage\n",
    "\n",
    "From `problem-set-2-part2.ipynb`:\n",
    "- Using Prover9\n",
    "- Model building with `mace4`\n"
   ]
  },
  {
   "cell_type": "code",
   "execution_count": 1,
   "metadata": {},
   "outputs": [],
   "source": [
    "# This task needs NLTK and Jupyter Notebook (IPython package).\n",
    "\n",
    "import nltk\n",
    "from nltk.grammar import FeatureGrammar\n",
    "from nltk.sem import cooper_storage as cs\n",
    "\n",
    "from utils import display_latex, display_translation, display_tree, display, Markdown\n",
    "from itertools import zip_longest\n",
    "\n",
    "read_expr = nltk.sem.Expression.fromstring\n",
    "\n",
    "from utils2 import sem_parser, evaluate_sentences, syntax, syntax_storage, syntax_notv, compare_synsem\n",
    "\n",
    "import re"
   ]
  },
  {
   "cell_type": "markdown",
   "metadata": {},
   "source": [
    "## Types in Cooper Storage [12 marks in total]"
   ]
  },
  {
   "cell_type": "markdown",
   "metadata": {},
   "source": [
    "### 1. Types of syntactic categories [5 marks in total]\n",
    "\n",
    "In this question we are going to look at alternative representations for transitive verbs and verb phrases from what you saw in `problem-set-2-part1`. \n",
    "If you look carefully you see that the `TV`, `DTV` categories have simpler representations.\n",
    "That means that `VP`s have to have more complex representations as shown below.\n",
    "If you run the code below you will see that it produces the same readings that you saw earlier with a different grammar."
   ]
  },
  {
   "cell_type": "code",
   "execution_count": 2,
   "metadata": {},
   "outputs": [
    {
     "data": {
      "text/markdown": [
       "\"0. all dogs bite a bone\": $\\forall\\ x.(dog(x)\\ \\rightarrow\\ \\exists\\ z_{1}.(bone(z_{1})\\ \\land\\ bite(x,z_{1})))$"
      ],
      "text/plain": [
       "<IPython.core.display.Markdown object>"
      ]
     },
     "metadata": {},
     "output_type": "display_data"
    },
    {
     "data": {
      "text/markdown": [
       "\"1. a man gives a bone to every dog\": $\\exists\\ x.(man(x)\\ \\land\\ \\exists\\ z_{7}.(bone(z_{7})\\ \\land\\ \\forall\\ z_{6}.(dog(z_{6})\\ \\rightarrow\\ give(x,z_{7},z_{6}))))$"
      ],
      "text/plain": [
       "<IPython.core.display.Markdown object>"
      ]
     },
     "metadata": {},
     "output_type": "display_data"
    },
    {
     "data": {
      "text/markdown": [
       "\"1. a man gives a bone to every dog\": $\\exists\\ x.(man(x)\\ \\land\\ \\forall\\ z_{4}.(dog(z_{4})\\ \\rightarrow\\ \\exists\\ z_{3}.(bone(z_{3})\\ \\land\\ give(x,z_{3},z_{4}))))$"
      ],
      "text/plain": [
       "<IPython.core.display.Markdown object>"
      ]
     },
     "metadata": {},
     "output_type": "display_data"
    },
    {
     "data": {
      "text/markdown": [
       "\"2. Russia gives Moscow to Napoleon\": $give(russia,moscow,napoleon)$"
      ],
      "text/plain": [
       "<IPython.core.display.Markdown object>"
      ]
     },
     "metadata": {},
     "output_type": "display_data"
    }
   ],
   "source": [
    "fcfg_string = r\"\"\"\n",
    "VP[NUM=?n,SEM=<\\x.(?obj(?v(x)))>] -> TV[NUM=?n,SEM=?v] NP[SEM=?obj]\n",
    "VP[NUM=?n,SEM=<\\x.(?pp(\\y.?obj(?v(x, y))))>] -> DTV[NUM=?n,SEM=?v] NP[SEM=?obj] PP[+TO,SEM=?pp]\n",
    "VP[NUM=?n,SEM=<\\x.(?obj(\\z.?pp(\\y.?v(x, y, z))))>] -> DTV[NUM=?n,SEM=?v] NP[SEM=?obj] PP[+TO,SEM=?pp]\n",
    "\n",
    "TV[NUM=sg,SEM=<\\x y.bite(x,y)>,TNS=pres] -> 'bites'\n",
    "TV[NUM=pl,SEM=<\\x y.bite(x,y)>,TNS=pres] -> 'bite'\n",
    "DTV[NUM=sg,SEM=<\\x z y.give(x,y,z)>,TNS=pres] -> 'gives'\n",
    "DTV[NUM=pl,SEM=<\\x z y.give(x,y,z)>,TNS=pres] -> 'give'\n",
    "\"\"\"\n",
    "\n",
    "# this is going to add new rules to the syntax:\n",
    "new_syntax = FeatureGrammar(\n",
    "    syntax_notv.start(),\n",
    "    syntax_notv.productions() + FeatureGrammar.fromstring(fcfg_string).productions()\n",
    ")\n",
    "\n",
    "sentences = [\n",
    "    'all dogs bite a bone',\n",
    "    'a man gives a bone to every dog',\n",
    "    'Russia gives Moscow to Napoleon',\n",
    "]\n",
    "\n",
    "# change `verbose` to see the trees\n",
    "sents_reps = sem_parser(sentences, new_syntax, verbose=False)\n",
    "\n",
    "for i, (sent, semreps) in enumerate(sents_reps.items()):\n",
    "    for semrep in semreps:\n",
    "        display_translation(f\"{i}. {sent}\", semrep)"
   ]
  },
  {
   "cell_type": "markdown",
   "metadata": {},
   "source": [
    "The aim of this question is to inspect and compare two sets of grammar rules from `syntax`, `new_syntax`:"
   ]
  },
  {
   "cell_type": "code",
   "execution_count": 3,
   "metadata": {},
   "outputs": [
    {
     "data": {
      "text/markdown": [
       "\n",
       "| Category | Grammar 1 | Grammar 2 \n",
       "|----------|-----------|----------\n",
       "| DTV -> {{STR}} | \\Y X x.X(\\z.Y(\\y.give(x,y,z))) | \\x z y.give(x,y,z)\n",
       "| NP -> Det Nom | ?det(?nom) | ?det(?nom)\n",
       "| NP -> PropN | ?np | ?np\n",
       "| PP -> P NP | ?np | ?np\n",
       "| S -> NP VP | ?subj(?vp) | ?subj(?vp)\n",
       "| TV -> {{STR}} | \\X x.X(\\y.bite(x,y)) | \\x y.bite(x,y)\n",
       "| VP -> DTV NP PP | ?v(?obj,?pp) | \\x.?pp(\\y.?obj(?v(x,y)))\n",
       "| VP -> DTV NP PP | - | \\x.?obj(\\z.?pp(\\y.?v(x,y,z)))\n",
       "| VP -> IV | ?v | ?v\n",
       "| VP -> TV NP | ?v(?obj) | \\x.?obj(?v(x))\n"
      ],
      "text/plain": [
       "<IPython.core.display.Markdown object>"
      ]
     },
     "metadata": {},
     "output_type": "display_data"
    }
   ],
   "source": [
    "# display the comparison\n",
    "table = \"\"\"\n",
    "| Category | Grammar 1 | Grammar 2 \n",
    "|----------|-----------|----------\n",
    "\"\"\"\n",
    "for cat, sem1, sem2 in compare_synsem(syntax, new_syntax):\n",
    "    if cat[0] in ['VP', 'DTV', 'TV', 'NP', 'S', 'PP']:\n",
    "        table += f\"| {cat[0]} -> {cat[1]} | {'-' if sem1 is None else sem1} | {'-' if sem2 is None else sem2}\\n\"\n",
    "\n",
    "display(Markdown(table))"
   ]
  },
  {
   "cell_type": "markdown",
   "metadata": {},
   "source": [
    "**1a.** What are the semantic types of each syntactic category?\n",
    "Compare `new_syntax` with `syntax` imported form `util2.py`. \n",
    "\n",
    "Write types in `???`. **[4 marks]**"
   ]
  },
  {
   "cell_type": "markdown",
   "metadata": {},
   "source": [
    "|\tSyntactic Type\t|\tGrammar 1\t\t\t|\tGrammar 2\t\t\t| \n",
    "|-------------------|-----------------------|-----------------------| \n",
    "| S\t\t\t\t\t| `t`\t\t\t\t\t| `t`\t\t\t\t\t|\n",
    "| DET\t\t\t\t| `<<e,t>,<<e,t>,t>>`\t| `<<e,t>,e>`\t        |\n",
    "| N\t\t\t\t\t| `<e,t>`\t\t\t\t| `<e,t>`\t\t\t\t|\n",
    "| IV\t\t\t\t| `<e,t>`\t\t\t\t| `<e,t>`\t\t\t\t|\n",
    "| TV\t\t\t\t| `<<e,t>,t>`\t        | `<e,<e,t>>`\t|\n",
    "| DTV\t\t\t\t| `<e,t>`\t\t\t    | `<e,<e,t>>>`\t\t|\n",
    "| NP\t\t\t\t| `<<e,t>,t>`\t\t\t| `<e>`\t\t\t        |\n",
    "| PP\t\t\t\t| `<<e,t>,t> `\t\t\t| `<e>`\t\t\t        |\n",
    "| VP\t\t\t\t| `<e,t>`\t\t\t\t| `<e,t>`\t\t\t    |\n"
   ]
  },
  {
   "cell_type": "markdown",
   "metadata": {},
   "source": [
    "**1b.** There are two simple ways to construct lambda terms in lambda calculus:\n",
    "\n",
    "|\tLambda Syntax\t|\tName\t\t\t\t|\tDescription\t\t\t|\n",
    "|-------------------|-----------------------|-----------------------|\n",
    "|\tP(X)\t\t\t|\tapplication (app)\t|\tapplying P on X.\t|\n",
    "|\t\\x.P\t\t\t|\tabstraction (abs)\t|\tfunction definition.|\n",
    "\n",
    "Compare the composition of non-terminal nodes as implemented in two grammars **[1 mark]**:"
   ]
  },
  {
   "cell_type": "markdown",
   "metadata": {},
   "source": [
    "|\tSyntactic Type\t\t|\tGrammar 1\t\t|\tGrammar 2\t\t| \n",
    "|-----------------------|-------------------|-------------------| \n",
    "|\t`S  -> NP VP`\t\t|\tapp\t\t\t\t|\tapp\t\t\t\t|\n",
    "|\t`VP -> IV`\t\t\t|\tnone\t\t\t|\tnone\t\t\t|\n",
    "|\t`NP -> DET Nom`\t\t|\t`app`\t\t\t|\t`app`\t\t\t|\n",
    "|\t`VP -> TV NP`\t\t|\t`app`\t\t\t|\tabs,app\t\t\t|\n",
    "|\t`VP -> DTV NP PP`\t|\t`app`\t\t\t|\t`abs,app`\t\t\t|\n"
   ]
  },
  {
   "cell_type": "markdown",
   "metadata": {},
   "source": [
    "### 2. A new conjunction rule [7 marks in total]\n",
    "\n",
    "The grammar below implements Cooper Storage - in fact this version is included as `storage.fcfg` with NLTK. In the lecture and in the previous part of this assignment we used our modified version. The goal of this question is to examine why we had to modify this version of the grammar. In this grammar the lexical representations of verbs are basic but their compositions with NPs are not complex as in Question 1 of this notebook. Therefore, this grammar also requires a different conjunction rule from the one in `problem-set-2-part1`.\n",
    "\n",
    "Run the code below and answer questions:"
   ]
  },
  {
   "cell_type": "code",
   "execution_count": 4,
   "metadata": {
    "scrolled": true
   },
   "outputs": [],
   "source": [
    "fcfg_storage = r\"\"\"\n",
    "%start S\n",
    "\n",
    "S[SEM=[CORE=<?vp(?subj)>, STORE=(?b1+?b2)]] -> NP[SEM=[CORE=?subj, STORE=?b1]] VP[SEM=[CORE=?vp, STORE=?b2]]\n",
    "\n",
    "VP[SEM=?v] -> IV[SEM=?v]\n",
    "VP[SEM=[CORE=<?v(?obj)>, STORE=(?b1+?b2)]] -> TV[SEM=[CORE=?v, STORE=?b1]] NP[SEM=[CORE=?obj, STORE=?b2]]\n",
    "VP[SEM=[CORE=<?v(?pp)(?obj)>, STORE=(?b1+?b2+?b3)]] -> DTV[SEM=[CORE=?v, STORE=?b1]] NP[SEM=[CORE=?obj, STORE=?b2]] PP[+TO, SEM=[CORE=?pp, STORE=?b3]]  \n",
    "\n",
    "NP[SEM=[CORE=<@x>, STORE=((<bo(?det(?nom),@x)>)+?b1+?b2)]] -> Det[SEM=[CORE=?det, STORE=?b1]] Nom[SEM=[CORE=?nom, STORE=?b2]]\n",
    "Nom[SEM=?n] -> N[SEM=?n]\n",
    "NP[SEM=?np] -> PropN[SEM=?np]\n",
    "\n",
    "PP[+TO, SEM=[CORE=?np, STORE=?b1]] -> P NP[SEM=[CORE=?np, STORE=?b1]]\n",
    "\n",
    "\n",
    "# Lexical items:\n",
    "Det[SEM=[CORE=<\\Q P.exists x.(Q(x) & P(x))>, STORE=(/)]] -> 'a'\n",
    "Det[SEM=[CORE=<\\Q P.all x.(Q(x) implies P(x))>, STORE=(/)]] -> 'every'\n",
    "\n",
    "N[SEM=[CORE=<\\x.library(x)>, STORE=(/)]] -> 'library' \n",
    "N[SEM=[CORE=<\\x.book(x)>, STORE=(/)]] -> 'book' \n",
    "N[SEM=[CORE=<\\x.girl(x)>, STORE=(/)]] -> 'girl'\n",
    "N[SEM=[CORE=<\\x.boy(x)>, STORE=(/)]] -> 'boy'\n",
    "\n",
    "IV[SEM=[CORE=<\\x.smile(x)>, STORE=(/)]] -> 'smiles' \n",
    "IV[SEM=[CORE=<\\x.walk(x)>, STORE=(/)]] -> 'walks'\n",
    "\n",
    "TV[SEM=[CORE=<\\y x.read(x,y)>, STORE=(/)]] -> 'reads' \n",
    "\n",
    "DTV[SEM=[CORE=<\\z y x.give(x,y,z)>, STORE=(/)]] -> 'gives' \n",
    "\n",
    "PropN[SEM=[CORE=<@x>, STORE=(<bo(\\P.P(angus),@x)>)]] -> 'Angus' \n",
    "PropN[SEM=[CORE=<@x>, STORE=(<bo(\\P.P(cyril),@x)>)]] -> 'Cyril'\n",
    "\n",
    "P[+TO] -> 'to'\n",
    "\"\"\""
   ]
  },
  {
   "cell_type": "markdown",
   "metadata": {},
   "source": [
    "Let us compare the construction of representations in `SEM.CORE` with the grammar in Question 1:"
   ]
  },
  {
   "cell_type": "code",
   "execution_count": 5,
   "metadata": {},
   "outputs": [
    {
     "data": {
      "text/markdown": [
       "\n",
       "| Category | Grammar 2 | Grammar 3 - CORE | Grammar 3 - STORE\n",
       "|----------|-----------|------------------|-------------------\n",
       "| `DTV -> {{STR}}` | `\\x z y.give(x,y,z)` | `-` | `-` \n",
       "| `DTV -> {{STR}}` | `\\x z y.give(x,y,z)` | `\\z y x.give(x,y,z)` | `-` \n",
       "| `NP -> Det Nom` | `?det(?nom)` | `@x` | `@x --> ?det(?nom)` \n",
       "| `NP -> PropN` | `?np` | `?np` | `-` \n",
       "| `PP -> P NP` | `?np` | `?np` | `-` \n",
       "| `S -> NP VP` | `?subj(?vp)` | `?vp(?subj)` | `-` \n",
       "| `TV -> {{STR}}` | `\\x y.bite(x,y)` | `\\y x.read(x,y)` | `-` \n",
       "| `TV -> {{STR}}` | `\\x y.bite(x,y)` | `-` | `-` \n",
       "| `VP -> DTV NP PP` | `\\x.?pp(\\y.?obj(?v(x,y)))` | `?v(?pp,?obj)` | `-` \n",
       "| `VP -> DTV NP PP` | `\\x.?obj(\\z.?pp(\\y.?v(x,y,z)))` | `-` | `-` \n",
       "| `VP -> IV` | `?v` | `?v` | `-` \n",
       "| `VP -> TV NP` | `\\x.?obj(?v(x))` | `?v(?obj)` | `-` \n"
      ],
      "text/plain": [
       "<IPython.core.display.Markdown object>"
      ]
     },
     "metadata": {},
     "output_type": "display_data"
    }
   ],
   "source": [
    "cs_syntax = FeatureGrammar.fromstring(fcfg_storage)\n",
    "\n",
    "# display the comparison\n",
    "table = \"\"\"\n",
    "| Category | Grammar 2 | Grammar 3 - CORE | Grammar 3 - STORE\n",
    "|----------|-----------|------------------|-------------------\n",
    "\"\"\"\n",
    "for cat, sem1, sem2 in compare_synsem(cs_syntax, new_syntax):\n",
    "    if cat[0] in ['VP', 'DTV', 'TV', 'NP', 'S', 'PP']:\n",
    "        if sem1 is not None and type(sem1)!=nltk.grammar.FeatStructNonterminal:\n",
    "             # then there is a semantic representation, but its not structured:\n",
    "            core = sem1\n",
    "            store = '-'\n",
    "        elif type(sem1)==nltk.grammar.FeatStructNonterminal:\n",
    "            # then the semantic representation is structured:\n",
    "            core = str(sem1['CORE'])\n",
    "            store = \"\"\n",
    "            # find the binding operations introduced here:\n",
    "            for bo in re.findall(r'\\(bo\\((.+)\\)\\)', str(sem1['STORE'])):\n",
    "                rep, ref = tuple(bo.split(','))\n",
    "                store += f\"{ref} --> {rep}\" \n",
    "                \n",
    "            # if there is no new binding then ignore the store:\n",
    "            if store == \"\":\n",
    "                store = '-'\n",
    "        else:\n",
    "            # then there is no semantic representation:\n",
    "            core = '-'\n",
    "            store = '-'\n",
    "            \n",
    "        if sem2 is None:\n",
    "            sem2 = '-'\n",
    "            \n",
    "        table += f\"| `{cat[0]} -> {cat[1]}` \" +\\\n",
    "                 f\"| `{sem2}` \" +\\\n",
    "                 f\"| `{core}` \" +\\\n",
    "                 f\"| `{store}` \" +\\\n",
    "                  \"\\n\"\n",
    "\n",
    "display(Markdown(table))"
   ]
  },
  {
   "cell_type": "markdown",
   "metadata": {},
   "source": [
    "**2a.** What are the types of representations in `SEM.CORE` for each syntactic category? **[2 marks]**"
   ]
  },
  {
   "cell_type": "markdown",
   "metadata": {},
   "source": [
    "|\tSyntactic Type\t|\tGrammar 3 -\tCORE\t\n",
    "|-------------------|-----------------------\n",
    "| S\t\t\t\t\t| `t`\t\t\t\t\t\n",
    "| Det\t\t\t\t| `<<e,t>,e>`\t\t\t\t\t\n",
    "| N\t\t\t\t\t| `<e,t>`\t\t\t\t\t\n",
    "| IV\t\t\t\t| `<e,t>`\t\t\t\t\t\n",
    "| TV\t\t\t\t| `<e,<e,t>`\t\t\t\t\t\n",
    "| DTV\t\t\t\t| `<e,<e,t>>`\t\t\t\t\t\n",
    "| NP\t\t\t\t| `e`\t\t\t\t\t\n",
    "| PP\t\t\t\t| `e`\t\t\t\t\t\n",
    "| VP\t\t\t\t| `<e,t>`\t\t\t\t\t\n"
   ]
  },
  {
   "cell_type": "markdown",
   "metadata": {},
   "source": [
    "**2b.** Compare the composition of non-terminal nodes in Cooper Storage and the grammar from the previous question. Fill in `???`. **[1 mark]**"
   ]
  },
  {
   "cell_type": "markdown",
   "metadata": {},
   "source": [
    "|\tSyntactic Type\t\t|\tGrammar Basic-CS\t|\tGrammar 2\t\t| \n",
    "|-----------------------|-----------------------|-------------------| \n",
    "|\t`S  -> NP VP`\t\t|\t`app`\t\t\t\t|\tapp\t\t\t\t|\n",
    "|\t`VP -> IV`\t\t\t|\tnone\t\t\t\t|\tnone\t\t\t|\n",
    "|\t`NP -> DET Nom`\t\t|\t`app`\t\t\t\t|\t`app`\t\t\t|\n",
    "|\t`VP -> TV NP`\t\t|\t`app`\t\t\t\t|\tabs/app\t\t\t|\n",
    "|\t`VP -> DTV NP PP`\t|\t`app`\t\t\t\t|\t`abs/app `\t\t\t|\n"
   ]
  },
  {
   "cell_type": "markdown",
   "metadata": {},
   "source": [
    "**2c.** What are other differences between two representations?. **[1 mark]**"
   ]
  },
  {
   "cell_type": "raw",
   "metadata": {},
   "source": [
    "** Write answers here **\n",
    "The frist representation includes either application or abstraction. The second representation could include both nodes, as abstraction and application combined. \n",
    "..."
   ]
  },
  {
   "cell_type": "markdown",
   "metadata": {},
   "source": [
    "**2d.** Finish the rule where the conjunction is handled in the  `STORE` by replacing `xxx` with an appropriate lambda function and then uncomment the rule. **[2 marks]**"
   ]
  },
  {
   "cell_type": "code",
   "execution_count": 6,
   "metadata": {},
   "outputs": [
    {
     "data": {
      "text/markdown": [
       "\"1\": $\\exists\\ x.(boy(x)\\ \\land\\ \\exists\\ z_{12}.(girl(z_{12})\\ \\land\\ \\exists\\ z_{11}.(book(z_{11})\\ \\land\\ \\forall\\ z_{10}.(library(z_{10})\\ \\rightarrow\\ give(z_{10},z_{11},z_{12})))(x)))$"
      ],
      "text/plain": [
       "<IPython.core.display.Markdown object>"
      ]
     },
     "metadata": {},
     "output_type": "display_data"
    },
    {
     "data": {
      "text/markdown": [
       "\"2\": $\\exists\\ x.(girl(x)\\ \\land\\ \\exists\\ z_{15}.(boy(z_{15})\\ \\land\\ \\exists\\ z_{14}.(book(z_{14})\\ \\land\\ \\forall\\ z_{13}.(library(z_{13})\\ \\rightarrow\\ give(z_{13},z_{14},x)))(z_{15})))$"
      ],
      "text/plain": [
       "<IPython.core.display.Markdown object>"
      ]
     },
     "metadata": {},
     "output_type": "display_data"
    },
    {
     "data": {
      "text/markdown": [
       "\"3\": $\\exists\\ x.(boy(x)\\ \\land\\ \\exists\\ z_{30}.(girl(z_{30})\\ \\land\\ \\exists\\ z_{29}.(book(z_{29})\\ \\land\\ \\forall\\ z_{28}.(library(z_{28})\\ \\rightarrow\\ give(z_{28},z_{29},z_{30}))(x))))$"
      ],
      "text/plain": [
       "<IPython.core.display.Markdown object>"
      ]
     },
     "metadata": {},
     "output_type": "display_data"
    },
    {
     "data": {
      "text/markdown": [
       "\"4\": $\\exists\\ x.(girl(x)\\ \\land\\ \\exists\\ z_{33}.(boy(z_{33})\\ \\land\\ \\exists\\ z_{32}.(book(z_{32})\\ \\land\\ \\forall\\ z_{31}.(library(z_{31})\\ \\rightarrow\\ give(z_{31},z_{32},x))(z_{33}))))$"
      ],
      "text/plain": [
       "<IPython.core.display.Markdown object>"
      ]
     },
     "metadata": {},
     "output_type": "display_data"
    },
    {
     "data": {
      "text/markdown": [
       "\"5\": $\\exists\\ x.(boy(x)\\ \\land\\ \\exists\\ z_{36}.(book(z_{36})\\ \\land\\ \\exists\\ z_{35}.(girl(z_{35})\\ \\land\\ \\forall\\ z_{34}.(library(z_{34})\\ \\rightarrow\\ give(z_{34},z_{36},z_{35}))(x))))$"
      ],
      "text/plain": [
       "<IPython.core.display.Markdown object>"
      ]
     },
     "metadata": {},
     "output_type": "display_data"
    },
    {
     "data": {
      "text/markdown": [
       "\"6\": $\\exists\\ x.(book(x)\\ \\land\\ \\exists\\ z_{39}.(boy(z_{39})\\ \\land\\ \\exists\\ z_{38}.(girl(z_{38})\\ \\land\\ \\forall\\ z_{37}.(library(z_{37})\\ \\rightarrow\\ give(z_{37},x,z_{38}))(z_{39}))))$"
      ],
      "text/plain": [
       "<IPython.core.display.Markdown object>"
      ]
     },
     "metadata": {},
     "output_type": "display_data"
    },
    {
     "data": {
      "text/markdown": [
       "\"7\": $\\exists\\ x.(girl(x)\\ \\land\\ \\exists\\ z_{42}.(book(z_{42})\\ \\land\\ \\exists\\ z_{41}.(boy(z_{41})\\ \\land\\ \\forall\\ z_{40}.(library(z_{40})\\ \\rightarrow\\ give(z_{40},z_{42},x))(z_{41}))))$"
      ],
      "text/plain": [
       "<IPython.core.display.Markdown object>"
      ]
     },
     "metadata": {},
     "output_type": "display_data"
    },
    {
     "data": {
      "text/markdown": [
       "\"8\": $\\exists\\ x.(book(x)\\ \\land\\ \\exists\\ z_{45}.(girl(z_{45})\\ \\land\\ \\exists\\ z_{44}.(boy(z_{44})\\ \\land\\ \\forall\\ z_{43}.(library(z_{43})\\ \\rightarrow\\ give(z_{43},x,z_{45}))(z_{44}))))$"
      ],
      "text/plain": [
       "<IPython.core.display.Markdown object>"
      ]
     },
     "metadata": {},
     "output_type": "display_data"
    },
    {
     "data": {
      "text/markdown": [
       "\"9\": $\\exists\\ x.(boy(x)\\ \\land\\ \\exists\\ z_{84}.(girl(z_{84})\\ \\land\\ \\forall\\ z_{83}.(library(z_{83})\\ \\rightarrow\\ \\exists\\ z_{82}.(book(z_{82})\\ \\land\\ give(z_{83},z_{82},z_{84})))(x)))$"
      ],
      "text/plain": [
       "<IPython.core.display.Markdown object>"
      ]
     },
     "metadata": {},
     "output_type": "display_data"
    },
    {
     "data": {
      "text/markdown": [
       "\"10\": $\\exists\\ x.(girl(x)\\ \\land\\ \\exists\\ z_{87}.(boy(z_{87})\\ \\land\\ \\forall\\ z_{86}.(library(z_{86})\\ \\rightarrow\\ \\exists\\ z_{85}.(book(z_{85})\\ \\land\\ give(z_{86},z_{85},x)))(z_{87})))$"
      ],
      "text/plain": [
       "<IPython.core.display.Markdown object>"
      ]
     },
     "metadata": {},
     "output_type": "display_data"
    },
    {
     "data": {
      "text/markdown": [
       "\"11\": $\\exists\\ x.(boy(x)\\ \\land\\ \\exists\\ z_{102}.(girl(z_{102})\\ \\land\\ \\forall\\ z_{101}.(library(z_{101})\\ \\rightarrow\\ \\exists\\ z_{100}.(book(z_{100})\\ \\land\\ give(z_{101},z_{100},z_{102}))(x))))$"
      ],
      "text/plain": [
       "<IPython.core.display.Markdown object>"
      ]
     },
     "metadata": {},
     "output_type": "display_data"
    },
    {
     "data": {
      "text/markdown": [
       "\"12\": $\\exists\\ x.(girl(x)\\ \\land\\ \\exists\\ z_{105}.(boy(z_{105})\\ \\land\\ \\forall\\ z_{104}.(library(z_{104})\\ \\rightarrow\\ \\exists\\ z_{103}.(book(z_{103})\\ \\land\\ give(z_{104},z_{103},x))(z_{105}))))$"
      ],
      "text/plain": [
       "<IPython.core.display.Markdown object>"
      ]
     },
     "metadata": {},
     "output_type": "display_data"
    },
    {
     "data": {
      "text/markdown": [
       "\"13\": $\\exists\\ x.(boy(x)\\ \\land\\ \\forall\\ z_{108}.(library(z_{108})\\ \\rightarrow\\ \\exists\\ z_{107}.(girl(z_{107})\\ \\land\\ \\exists\\ z_{106}.(book(z_{106})\\ \\land\\ give(z_{108},z_{106},z_{107}))(x))))$"
      ],
      "text/plain": [
       "<IPython.core.display.Markdown object>"
      ]
     },
     "metadata": {},
     "output_type": "display_data"
    },
    {
     "data": {
      "text/markdown": [
       "\"14\": $\\forall\\ x.(library(x)\\ \\rightarrow\\ \\exists\\ z_{111}.(boy(z_{111})\\ \\land\\ \\exists\\ z_{110}.(girl(z_{110})\\ \\land\\ \\exists\\ z_{109}.(book(z_{109})\\ \\land\\ give(x,z_{109},z_{110}))(z_{111}))))$"
      ],
      "text/plain": [
       "<IPython.core.display.Markdown object>"
      ]
     },
     "metadata": {},
     "output_type": "display_data"
    },
    {
     "data": {
      "text/markdown": [
       "\"15\": $\\exists\\ x.(girl(x)\\ \\land\\ \\forall\\ z_{114}.(library(z_{114})\\ \\rightarrow\\ \\exists\\ z_{113}.(boy(z_{113})\\ \\land\\ \\exists\\ z_{112}.(book(z_{112})\\ \\land\\ give(z_{114},z_{112},x))(z_{113}))))$"
      ],
      "text/plain": [
       "<IPython.core.display.Markdown object>"
      ]
     },
     "metadata": {},
     "output_type": "display_data"
    },
    {
     "data": {
      "text/markdown": [
       "\"16\": $\\forall\\ x.(library(x)\\ \\rightarrow\\ \\exists\\ z_{117}.(girl(z_{117})\\ \\land\\ \\exists\\ z_{116}.(boy(z_{116})\\ \\land\\ \\exists\\ z_{115}.(book(z_{115})\\ \\land\\ give(x,z_{115},z_{117}))(z_{116}))))$"
      ],
      "text/plain": [
       "<IPython.core.display.Markdown object>"
      ]
     },
     "metadata": {},
     "output_type": "display_data"
    },
    {
     "data": {
      "text/markdown": [
       "\"17\": $\\exists\\ x.(boy(x)\\ \\land\\ \\exists\\ z_{156}.(girl(z_{156})\\ \\land\\ \\exists\\ z_{155}.(book(z_{155})\\ \\land\\ \\forall\\ z_{154}.(library(z_{154})\\ \\rightarrow\\ give(z_{154},z_{155},z_{156},x)))))$"
      ],
      "text/plain": [
       "<IPython.core.display.Markdown object>"
      ]
     },
     "metadata": {},
     "output_type": "display_data"
    },
    {
     "data": {
      "text/markdown": [
       "\"18\": $\\exists\\ x.(girl(x)\\ \\land\\ \\exists\\ z_{159}.(boy(z_{159})\\ \\land\\ \\exists\\ z_{158}.(book(z_{158})\\ \\land\\ \\forall\\ z_{157}.(library(z_{157})\\ \\rightarrow\\ give(z_{157},z_{158},x,z_{159})))))$"
      ],
      "text/plain": [
       "<IPython.core.display.Markdown object>"
      ]
     },
     "metadata": {},
     "output_type": "display_data"
    },
    {
     "data": {
      "text/markdown": [
       "\"19\": $\\exists\\ x.(boy(x)\\ \\land\\ \\exists\\ z_{162}.(book(z_{162})\\ \\land\\ \\exists\\ z_{161}.(girl(z_{161})\\ \\land\\ \\forall\\ z_{160}.(library(z_{160})\\ \\rightarrow\\ give(z_{160},z_{162},z_{161},x)))))$"
      ],
      "text/plain": [
       "<IPython.core.display.Markdown object>"
      ]
     },
     "metadata": {},
     "output_type": "display_data"
    },
    {
     "data": {
      "text/markdown": [
       "\"20\": $\\exists\\ x.(book(x)\\ \\land\\ \\exists\\ z_{165}.(boy(z_{165})\\ \\land\\ \\exists\\ z_{164}.(girl(z_{164})\\ \\land\\ \\forall\\ z_{163}.(library(z_{163})\\ \\rightarrow\\ give(z_{163},x,z_{164},z_{165})))))$"
      ],
      "text/plain": [
       "<IPython.core.display.Markdown object>"
      ]
     },
     "metadata": {},
     "output_type": "display_data"
    },
    {
     "data": {
      "text/markdown": [
       "\"21\": $\\exists\\ x.(girl(x)\\ \\land\\ \\exists\\ z_{168}.(book(z_{168})\\ \\land\\ \\exists\\ z_{167}.(boy(z_{167})\\ \\land\\ \\forall\\ z_{166}.(library(z_{166})\\ \\rightarrow\\ give(z_{166},z_{168},x,z_{167})))))$"
      ],
      "text/plain": [
       "<IPython.core.display.Markdown object>"
      ]
     },
     "metadata": {},
     "output_type": "display_data"
    },
    {
     "data": {
      "text/markdown": [
       "\"22\": $\\exists\\ x.(book(x)\\ \\land\\ \\exists\\ z_{171}.(girl(z_{171})\\ \\land\\ \\exists\\ z_{170}.(boy(z_{170})\\ \\land\\ \\forall\\ z_{169}.(library(z_{169})\\ \\rightarrow\\ give(z_{169},x,z_{171},z_{170})))))$"
      ],
      "text/plain": [
       "<IPython.core.display.Markdown object>"
      ]
     },
     "metadata": {},
     "output_type": "display_data"
    },
    {
     "data": {
      "text/markdown": [
       "\"23\": $\\exists\\ x.(boy(x)\\ \\land\\ \\exists\\ z_{174}.(girl(z_{174})\\ \\land\\ \\forall\\ z_{173}.(library(z_{173})\\ \\rightarrow\\ \\exists\\ z_{172}.(book(z_{172})\\ \\land\\ give(z_{173},z_{172},z_{174},x)))))$"
      ],
      "text/plain": [
       "<IPython.core.display.Markdown object>"
      ]
     },
     "metadata": {},
     "output_type": "display_data"
    },
    {
     "data": {
      "text/markdown": [
       "\"24\": $\\exists\\ x.(girl(x)\\ \\land\\ \\exists\\ z_{177}.(boy(z_{177})\\ \\land\\ \\forall\\ z_{176}.(library(z_{176})\\ \\rightarrow\\ \\exists\\ z_{175}.(book(z_{175})\\ \\land\\ give(z_{176},z_{175},x,z_{177})))))$"
      ],
      "text/plain": [
       "<IPython.core.display.Markdown object>"
      ]
     },
     "metadata": {},
     "output_type": "display_data"
    },
    {
     "data": {
      "text/markdown": [
       "\"25\": $\\exists\\ x.(boy(x)\\ \\land\\ \\forall\\ z_{180}.(library(z_{180})\\ \\rightarrow\\ \\exists\\ z_{179}.(girl(z_{179})\\ \\land\\ \\exists\\ z_{178}.(book(z_{178})\\ \\land\\ give(z_{180},z_{178},z_{179},x)))))$"
      ],
      "text/plain": [
       "<IPython.core.display.Markdown object>"
      ]
     },
     "metadata": {},
     "output_type": "display_data"
    },
    {
     "data": {
      "text/markdown": [
       "\"26\": $\\forall\\ x.(library(x)\\ \\rightarrow\\ \\exists\\ z_{183}.(boy(z_{183})\\ \\land\\ \\exists\\ z_{182}.(girl(z_{182})\\ \\land\\ \\exists\\ z_{181}.(book(z_{181})\\ \\land\\ give(x,z_{181},z_{182},z_{183})))))$"
      ],
      "text/plain": [
       "<IPython.core.display.Markdown object>"
      ]
     },
     "metadata": {},
     "output_type": "display_data"
    },
    {
     "data": {
      "text/markdown": [
       "\"27\": $\\exists\\ x.(girl(x)\\ \\land\\ \\forall\\ z_{186}.(library(z_{186})\\ \\rightarrow\\ \\exists\\ z_{185}.(boy(z_{185})\\ \\land\\ \\exists\\ z_{184}.(book(z_{184})\\ \\land\\ give(z_{186},z_{184},x,z_{185})))))$"
      ],
      "text/plain": [
       "<IPython.core.display.Markdown object>"
      ]
     },
     "metadata": {},
     "output_type": "display_data"
    },
    {
     "data": {
      "text/markdown": [
       "\"28\": $\\forall\\ x.(library(x)\\ \\rightarrow\\ \\exists\\ z_{189}.(girl(z_{189})\\ \\land\\ \\exists\\ z_{188}.(boy(z_{188})\\ \\land\\ \\exists\\ z_{187}.(book(z_{187})\\ \\land\\ give(x,z_{187},z_{189},z_{188})))))$"
      ],
      "text/plain": [
       "<IPython.core.display.Markdown object>"
      ]
     },
     "metadata": {},
     "output_type": "display_data"
    },
    {
     "data": {
      "text/markdown": [
       "\"29\": $\\exists\\ x.(boy(x)\\ \\land\\ \\exists\\ z_{192}.(book(z_{192})\\ \\land\\ \\forall\\ z_{191}.(library(z_{191})\\ \\rightarrow\\ \\exists\\ z_{190}.(girl(z_{190})\\ \\land\\ give(z_{191},z_{192},z_{190},x)))))$"
      ],
      "text/plain": [
       "<IPython.core.display.Markdown object>"
      ]
     },
     "metadata": {},
     "output_type": "display_data"
    },
    {
     "data": {
      "text/markdown": [
       "\"30\": $\\exists\\ x.(book(x)\\ \\land\\ \\exists\\ z_{195}.(boy(z_{195})\\ \\land\\ \\forall\\ z_{194}.(library(z_{194})\\ \\rightarrow\\ \\exists\\ z_{193}.(girl(z_{193})\\ \\land\\ give(z_{194},x,z_{193},z_{195})))))$"
      ],
      "text/plain": [
       "<IPython.core.display.Markdown object>"
      ]
     },
     "metadata": {},
     "output_type": "display_data"
    },
    {
     "data": {
      "text/markdown": [
       "\"31\": $\\exists\\ x.(boy(x)\\ \\land\\ \\forall\\ z_{198}.(library(z_{198})\\ \\rightarrow\\ \\exists\\ z_{197}.(book(z_{197})\\ \\land\\ \\exists\\ z_{196}.(girl(z_{196})\\ \\land\\ give(z_{198},z_{197},z_{196},x)))))$"
      ],
      "text/plain": [
       "<IPython.core.display.Markdown object>"
      ]
     },
     "metadata": {},
     "output_type": "display_data"
    },
    {
     "data": {
      "text/markdown": [
       "\"32\": $\\forall\\ x.(library(x)\\ \\rightarrow\\ \\exists\\ z_{201}.(boy(z_{201})\\ \\land\\ \\exists\\ z_{200}.(book(z_{200})\\ \\land\\ \\exists\\ z_{199}.(girl(z_{199})\\ \\land\\ give(x,z_{200},z_{199},z_{201})))))$"
      ],
      "text/plain": [
       "<IPython.core.display.Markdown object>"
      ]
     },
     "metadata": {},
     "output_type": "display_data"
    },
    {
     "data": {
      "text/markdown": [
       "\"33\": $\\exists\\ x.(book(x)\\ \\land\\ \\forall\\ z_{204}.(library(z_{204})\\ \\rightarrow\\ \\exists\\ z_{203}.(boy(z_{203})\\ \\land\\ \\exists\\ z_{202}.(girl(z_{202})\\ \\land\\ give(z_{204},x,z_{202},z_{203})))))$"
      ],
      "text/plain": [
       "<IPython.core.display.Markdown object>"
      ]
     },
     "metadata": {},
     "output_type": "display_data"
    },
    {
     "data": {
      "text/markdown": [
       "\"34\": $\\forall\\ x.(library(x)\\ \\rightarrow\\ \\exists\\ z_{207}.(book(z_{207})\\ \\land\\ \\exists\\ z_{206}.(boy(z_{206})\\ \\land\\ \\exists\\ z_{205}.(girl(z_{205})\\ \\land\\ give(x,z_{207},z_{205},z_{206})))))$"
      ],
      "text/plain": [
       "<IPython.core.display.Markdown object>"
      ]
     },
     "metadata": {},
     "output_type": "display_data"
    },
    {
     "data": {
      "text/markdown": [
       "\"35\": $\\exists\\ x.(girl(x)\\ \\land\\ \\exists\\ z_{210}.(book(z_{210})\\ \\land\\ \\forall\\ z_{209}.(library(z_{209})\\ \\rightarrow\\ \\exists\\ z_{208}.(boy(z_{208})\\ \\land\\ give(z_{209},z_{210},x,z_{208})))))$"
      ],
      "text/plain": [
       "<IPython.core.display.Markdown object>"
      ]
     },
     "metadata": {},
     "output_type": "display_data"
    },
    {
     "data": {
      "text/markdown": [
       "\"36\": $\\exists\\ x.(book(x)\\ \\land\\ \\exists\\ z_{213}.(girl(z_{213})\\ \\land\\ \\forall\\ z_{212}.(library(z_{212})\\ \\rightarrow\\ \\exists\\ z_{211}.(boy(z_{211})\\ \\land\\ give(z_{212},x,z_{213},z_{211})))))$"
      ],
      "text/plain": [
       "<IPython.core.display.Markdown object>"
      ]
     },
     "metadata": {},
     "output_type": "display_data"
    },
    {
     "data": {
      "text/markdown": [
       "\"37\": $\\exists\\ x.(girl(x)\\ \\land\\ \\forall\\ z_{216}.(library(z_{216})\\ \\rightarrow\\ \\exists\\ z_{215}.(book(z_{215})\\ \\land\\ \\exists\\ z_{214}.(boy(z_{214})\\ \\land\\ give(z_{216},z_{215},x,z_{214})))))$"
      ],
      "text/plain": [
       "<IPython.core.display.Markdown object>"
      ]
     },
     "metadata": {},
     "output_type": "display_data"
    },
    {
     "data": {
      "text/markdown": [
       "\"38\": $\\forall\\ x.(library(x)\\ \\rightarrow\\ \\exists\\ z_{219}.(girl(z_{219})\\ \\land\\ \\exists\\ z_{218}.(book(z_{218})\\ \\land\\ \\exists\\ z_{217}.(boy(z_{217})\\ \\land\\ give(x,z_{218},z_{219},z_{217})))))$"
      ],
      "text/plain": [
       "<IPython.core.display.Markdown object>"
      ]
     },
     "metadata": {},
     "output_type": "display_data"
    },
    {
     "data": {
      "text/markdown": [
       "\"39\": $\\exists\\ x.(book(x)\\ \\land\\ \\forall\\ z_{222}.(library(z_{222})\\ \\rightarrow\\ \\exists\\ z_{221}.(girl(z_{221})\\ \\land\\ \\exists\\ z_{220}.(boy(z_{220})\\ \\land\\ give(z_{222},x,z_{221},z_{220})))))$"
      ],
      "text/plain": [
       "<IPython.core.display.Markdown object>"
      ]
     },
     "metadata": {},
     "output_type": "display_data"
    },
    {
     "data": {
      "text/markdown": [
       "\"40\": $\\forall\\ x.(library(x)\\ \\rightarrow\\ \\exists\\ z_{225}.(book(z_{225})\\ \\land\\ \\exists\\ z_{224}.(girl(z_{224})\\ \\land\\ \\exists\\ z_{223}.(boy(z_{223})\\ \\land\\ give(x,z_{225},z_{224},z_{223})))))$"
      ],
      "text/plain": [
       "<IPython.core.display.Markdown object>"
      ]
     },
     "metadata": {},
     "output_type": "display_data"
    }
   ],
   "source": [
    "fcfg_conj = r\"\"\"\n",
    "# Conjunction rule:\n",
    "CONJ -> 'and'\n",
    "NP[SEM=[CORE=<@x>, STORE=((<bo(\\P.P(?n1,?n2), @x)>)+?b1+?b2)]] -> NP[SEM=[CORE=?n1, STORE=?b1]] CONJ NP[SEM=[CORE=?n2, STORE=?b2]]\n",
    "#NP[SEM=[CORE=<yyy>, STORE=(?b1+?b2)]] -> NP[SEM=[CORE=?n1, STORE=?b1]] CONJ NP[SEM=[CORE=?n2, STORE=?b2]]\n",
    "\"\"\"\n",
    "\n",
    "cs_syntax = FeatureGrammar.fromstring(fcfg_storage+fcfg_conj)\n",
    "\n",
    "sentences = [\n",
    "    'every library gives a book to a girl and a boy',\n",
    "]\n",
    "\n",
    "sents_reps = sem_parser(sentences, cs_syntax, verbose=False, is_cs=True)\n",
    "\n",
    "counter = 0\n",
    "for i, (sent, semreps) in enumerate(sents_reps.items()):\n",
    "    for semrep in semreps:\n",
    "        # check if it is valid\n",
    "        if str(semrep).find(\"@\") == -1:\n",
    "            counter+=1\n",
    "            display_translation(f\"{counter}\", semrep)"
   ]
  },
  {
   "cell_type": "markdown",
   "metadata": {},
   "source": [
    "## **2b.** Is it possible to write a conjunction rule in `yyy` in the `CORE`? Why? **[1 marks]**"
   ]
  },
  {
   "cell_type": "raw",
   "metadata": {},
   "source": [
    "** Write your explanation here **\n",
    "\n",
    "..."
   ]
  },
  {
   "cell_type": "markdown",
   "metadata": {},
   "source": [
    "## Inference [15 marks in total]\n",
    "\n",
    "### 3. Ambiguous syntax and semantics and inference [15 marks in total]\n",
    "\n",
    "Extend the grammar in `problem-set-2-part2` to cover two sentences below that are similar to FraCaS problem 024. \n",
    "\n",
    "- no delegate obtained interesting results from the survey\n",
    "- no delegate obtained results from the survey"
   ]
  },
  {
   "cell_type": "markdown",
   "metadata": {},
   "source": [
    "**3a.** Extend the grammar with a lexical entry for `obtained` as a `TV` category where it is combined with only one object. **[6 marks]**  \n",
    "Hint: Add a rule that attaches the `PP` to a bare plural `NP` without a `DET`."
   ]
  },
  {
   "cell_type": "markdown",
   "metadata": {},
   "source": [
    "**3b.** Also add another rule for `obtained` where this is a `DTV` category. **[3 marks]**"
   ]
  },
  {
   "cell_type": "code",
   "execution_count": 7,
   "metadata": {},
   "outputs": [
    {
     "name": "stdout",
     "output_type": "stream",
     "text": [
      "1. no delegate obtained interesting results from the survey\n"
     ]
    },
    {
     "data": {
      "text/markdown": [
       "\"1\": $\\exists\\ x.(survey(x)\\ \\land\\ -\\exists\\ z_{373}.(delegate(z_{373})\\ \\rightarrow\\ \\exists\\ z_{371}.(result(z_{371})\\ \\land\\ interesting(z_{371})\\ \\land\\ obtaine(z_{373},z_{371})\\ \\land\\ from(z_{371},x)))\\ \\land\\ \\forall\\ y.(survey(y)\\ \\rightarrow\\ (x\\ =\\ y)))$"
      ],
      "text/plain": [
       "<IPython.core.display.Markdown object>"
      ]
     },
     "metadata": {},
     "output_type": "display_data"
    },
    {
     "data": {
      "text/markdown": [
       "\"2\": $-\\exists\\ x.(delegate(x)\\ \\rightarrow\\ \\exists\\ z_{374}.(survey(z_{374})\\ \\land\\ \\exists\\ z_{371}.(result(z_{371})\\ \\land\\ interesting(z_{371})\\ \\land\\ obtaine(x,z_{371})\\ \\land\\ from(z_{371},z_{374}))\\ \\land\\ \\forall\\ y.(survey(y)\\ \\rightarrow\\ (z_{374}\\ =\\ y))))$"
      ],
      "text/plain": [
       "<IPython.core.display.Markdown object>"
      ]
     },
     "metadata": {},
     "output_type": "display_data"
    },
    {
     "name": "stdout",
     "output_type": "stream",
     "text": [
      "2. no delegate obtained results from the survey\n"
     ]
    },
    {
     "data": {
      "text/markdown": [
       "\"1\": $\\exists\\ x.(survey(x)\\ \\land\\ -\\exists\\ z_{375}.(delegate(z_{375})\\ \\rightarrow\\ \\exists\\ z_{372}.(result(z_{372})\\ \\land\\ obtaine(z_{375},z_{372})\\ \\land\\ from(z_{372},x)))\\ \\land\\ \\forall\\ y.(survey(y)\\ \\rightarrow\\ (x\\ =\\ y)))$"
      ],
      "text/plain": [
       "<IPython.core.display.Markdown object>"
      ]
     },
     "metadata": {},
     "output_type": "display_data"
    },
    {
     "data": {
      "text/markdown": [
       "\"2\": $-\\exists\\ x.(delegate(x)\\ \\rightarrow\\ \\exists\\ z_{376}.(survey(z_{376})\\ \\land\\ \\exists\\ z_{372}.(result(z_{372})\\ \\land\\ obtaine(x,z_{372})\\ \\land\\ from(z_{372},z_{376}))\\ \\land\\ \\forall\\ y.(survey(y)\\ \\rightarrow\\ (z_{376}\\ =\\ y))))$"
      ],
      "text/plain": [
       "<IPython.core.display.Markdown object>"
      ]
     },
     "metadata": {},
     "output_type": "display_data"
    }
   ],
   "source": [
    "# your answers\n",
    "fcfg_storage_answers_a = r\"\"\"\n",
    "## Cover lexicon:\n",
    "\n",
    "Det[NUM=?n,SEM=[CORE=<\\P Q.-exists x.(P(x) -> Q(x))>, STORE=(/)]] -> 'no'\n",
    "\n",
    "Det[NUM=?n, SEM=[CORE=<\\P.\\Q. exists x.((P(x) & Q(x)) & all y.(P(y) -> (x = y)))>, STORE=(/)]] -> 'the'\n",
    "\n",
    "N[NUM=sg, SEM=[CORE=<\\x.delegate(x)>, STORE=(/)]] -> 'delegate'\n",
    "N[NUM=pl, SEM=[CORE=<\\x.result(x)>, STORE=(/)]] -> 'results'\n",
    "N[NUM=sg, SEM=[CORE=<\\x.survey(x)>, STORE=(/)]] -> 'survey'\n",
    "\n",
    "\n",
    "P2[SEM=[CORE=<\\X.\\P.\\Q. exists x.(X(\\y.(P(x) & Q(x) & from(x,y))))>, STORE=(/)]] -> 'from'\n",
    "P1[SEM=[CORE=<\\X.\\Y.\\Q. (Y(\\x.(X(\\y.(Q(x) & from(x,y))))))>, STORE=(/)]] -> 'from'\n",
    "\n",
    "ADJ[SEM=[CORE=<\\P.\\Q. exists x.(P(x) & interesting(x) & Q(x))>, STORE=(/)]] -> 'interesting'\n",
    "\n",
    "DTV[SEM=[CORE=<\\Y.\\X.\\x. X(\\z.Y(\\y.obtaine(x,y,z)))>, STORE=(/)],TNS=past] -> 'obtained'\n",
    "\n",
    "TV[SEM=[CORE=<\\X.\\x. X(\\y.obtaine(x,y))>, STORE=(/)], TNS=past] -> 'obtained'\n",
    "\n",
    "# add any missing rules\n",
    "\"\"\"\n",
    "\n",
    "fcfg_storage_answers_b = r\"\"\"\n",
    "## Cover lexicon:\n",
    "\n",
    "\n",
    "PP1[SEM=[CORE=<?p(?np)>, STORE=(?b1+?b2)]] -> P1[SEM=[CORE=?p, STORE=?b1]] NP[Num=?n, SEM=[CORE=?np, STORE=?b2]]\n",
    "PP2[SEM=[CORE=<?p(?np)>, STORE=(?b1+?b2)]] -> P2[SEM=[CORE=?p, STORE=?b1]] NP[Num=?n, SEM=[CORE=?np, STORE=?b2]]\n",
    "\n",
    "NP[SEM=[CORE=<?adj(?nom)>, STORE=(?b1+?b2)]] -> ADJ[SEM=[CORE=?adj, STORE=?b1]] Nom[NUM=?n,SEM=[CORE=?nom, STORE=?b2]]\n",
    "\n",
    "NP[NUM=?n, SEM=[CORE=<?pp(?np)>, STORE=(?b1+?b2)]] -> NP[NUM=?n, SEM=[CORE=?np, STORE=?b1]] PP1[SEM=[CORE=?pp, STORE=?b2]]\n",
    "NP[NUM=?n,SEM=[CORE=<?pp(?nom)>, STORE=(?b1+?b2)]] -> Nom[NUM=?n,SEM=[CORE=?nom, STORE=?b1]] PP2[NUM=?n,SEM=[CORE=?pp, STORE=?b2]]\n",
    "\n",
    "\n",
    "\n",
    "# add any missing rules\n",
    "\"\"\"\n",
    "\n",
    "sentences = [\n",
    "    \"no delegate obtained interesting results from the survey\",\n",
    "    \"no delegate obtained results from the survey\",\n",
    "]\n",
    "\n",
    "# this is going to add new rules to the syntax:\n",
    "grammar = FeatureGrammar(\n",
    "    syntax_storage.start(),\n",
    "    syntax_storage.productions() + \\\n",
    "    FeatureGrammar.fromstring(fcfg_storage_answers_a).productions() + \\\n",
    "    FeatureGrammar.fromstring(fcfg_storage_answers_b).productions()\n",
    ")\n",
    "\n",
    "# change `verbose` to see the trees\n",
    "sentence_readings = sem_parser(sentences, grammar, is_cs=True, verbose=False)\n",
    "\n",
    "for i, (sent, semreps) in enumerate(sentence_readings.items()):\n",
    "    counter = 0\n",
    "    print(f\"{i+1}. {sent}\")\n",
    "    for semrep in semreps:\n",
    "        counter += 1\n",
    "        display_translation(counter, semrep)"
   ]
  },
  {
   "cell_type": "markdown",
   "metadata": {},
   "source": [
    "**3c.** Use Mace to show whether any of the readings of the first sentence entail any of the readings of the second sentence. **[1 mark]**"
   ]
  },
  {
   "cell_type": "code",
   "execution_count": 8,
   "metadata": {},
   "outputs": [
    {
     "name": "stdout",
     "output_type": "stream",
     "text": [
      "Premise : exists x.(survey(x) & -exists z375.(delegate(z375) -> exists z372.(result(z372) & obtaine(z375,z372) & from(z372,x))) & all y.(survey(y) -> (x = y)))\n",
      "Goal    : exists x.(survey(x) & -exists z373.(delegate(z373) -> exists z371.(result(z371) & interesting(z371) & obtaine(z373,z371) & from(z371,x))) & all y.(survey(y) -> (x = y)))\n"
     ]
    },
    {
     "ename": "LookupError",
     "evalue": "\n\n===========================================================================\nNLTK was unable to find the mace4 file!\nUse software specific configuration paramaters or set the PROVER9 environment variable.\n\n  Searched in:\n    - /usr/local/bin/prover9\n    - /usr/local/bin/prover9/bin\n    - /usr/local/bin\n    - /usr/bin\n    - /usr/local/prover9\n    - /usr/local/share/prover9\n\n  For more information on mace4, see:\n    <http://www.cs.unm.edu/~mccune/prover9/>\n===========================================================================",
     "output_type": "error",
     "traceback": [
      "\u001b[0;31m---------------------------------------------------------------------------\u001b[0m",
      "\u001b[0;31mLookupError\u001b[0m                               Traceback (most recent call last)",
      "\u001b[0;32m<ipython-input-8-ce0c807ac154>\u001b[0m in \u001b[0;36m<module>\u001b[0;34m\u001b[0m\n\u001b[1;32m     23\u001b[0m \u001b[0ma2\u001b[0m \u001b[0;34m=\u001b[0m \u001b[0mread_expr\u001b[0m\u001b[0;34m(\u001b[0m\u001b[0;34m'all x. (delegate(x) -> -(result(x) | survey(x)))'\u001b[0m\u001b[0;34m)\u001b[0m\u001b[0;34m\u001b[0m\u001b[0;34m\u001b[0m\u001b[0m\n\u001b[1;32m     24\u001b[0m \u001b[0ma3\u001b[0m \u001b[0;34m=\u001b[0m \u001b[0mread_expr\u001b[0m\u001b[0;34m(\u001b[0m\u001b[0;34m'exist x. (result(x) & interesting(x))'\u001b[0m\u001b[0;34m)\u001b[0m\u001b[0;34m\u001b[0m\u001b[0;34m\u001b[0m\u001b[0m\n\u001b[0;32m---> 25\u001b[0;31m \u001b[0mapply_model_builder\u001b[0m\u001b[0;34m(\u001b[0m\u001b[0mmypremises\u001b[0m\u001b[0;34m,\u001b[0m\u001b[0mmygoals\u001b[0m\u001b[0;34m)\u001b[0m\u001b[0;34m\u001b[0m\u001b[0;34m\u001b[0m\u001b[0m\n\u001b[0m",
      "\u001b[0;32m<ipython-input-8-ce0c807ac154>\u001b[0m in \u001b[0;36mapply_model_builder\u001b[0;34m(premises, goals)\u001b[0m\n\u001b[1;32m      8\u001b[0m             \u001b[0mmc1\u001b[0m \u001b[0;34m=\u001b[0m \u001b[0mnltk\u001b[0m\u001b[0;34m.\u001b[0m\u001b[0mMaceCommand\u001b[0m\u001b[0;34m(\u001b[0m\u001b[0mgoal\u001b[0m\u001b[0;34m,\u001b[0m \u001b[0massumptions\u001b[0m\u001b[0;34m=\u001b[0m\u001b[0;34m[\u001b[0m\u001b[0mpremise\u001b[0m\u001b[0;34m,\u001b[0m \u001b[0ma1\u001b[0m\u001b[0;34m,\u001b[0m \u001b[0ma2\u001b[0m\u001b[0;34m,\u001b[0m \u001b[0ma3\u001b[0m\u001b[0;34m]\u001b[0m\u001b[0;34m)\u001b[0m\u001b[0;34m\u001b[0m\u001b[0;34m\u001b[0m\u001b[0m\n\u001b[1;32m      9\u001b[0m             \u001b[0mmc2\u001b[0m \u001b[0;34m=\u001b[0m \u001b[0mnltk\u001b[0m\u001b[0;34m.\u001b[0m\u001b[0mMaceCommand\u001b[0m\u001b[0;34m(\u001b[0m\u001b[0;32mNone\u001b[0m\u001b[0;34m,\u001b[0m \u001b[0massumptions\u001b[0m\u001b[0;34m=\u001b[0m\u001b[0;34m[\u001b[0m\u001b[0mpremise\u001b[0m\u001b[0;34m,\u001b[0m \u001b[0mgoal\u001b[0m\u001b[0;34m,\u001b[0m \u001b[0ma1\u001b[0m\u001b[0;34m,\u001b[0m \u001b[0ma2\u001b[0m\u001b[0;34m,\u001b[0m \u001b[0ma3\u001b[0m\u001b[0;34m]\u001b[0m\u001b[0;34m)\u001b[0m\u001b[0;34m\u001b[0m\u001b[0;34m\u001b[0m\u001b[0m\n\u001b[0;32m---> 10\u001b[0;31m             \u001b[0mmc1\u001b[0m\u001b[0;34m.\u001b[0m\u001b[0mbuild_model\u001b[0m\u001b[0;34m(\u001b[0m\u001b[0;34m)\u001b[0m\u001b[0;34m\u001b[0m\u001b[0;34m\u001b[0m\u001b[0m\n\u001b[0m\u001b[1;32m     11\u001b[0m             \u001b[0mmc2\u001b[0m\u001b[0;34m.\u001b[0m\u001b[0mbuild_model\u001b[0m\u001b[0;34m(\u001b[0m\u001b[0;34m)\u001b[0m\u001b[0;34m\u001b[0m\u001b[0;34m\u001b[0m\u001b[0m\n\u001b[1;32m     12\u001b[0m             \u001b[0mprint\u001b[0m\u001b[0;34m(\u001b[0m\u001b[0;34m\"a model-1:\"\u001b[0m\u001b[0;34m)\u001b[0m\u001b[0;34m\u001b[0m\u001b[0;34m\u001b[0m\u001b[0m\n",
      "\u001b[0;32m~/Library/Python/3.8/lib/python/site-packages/nltk/inference/api.py\u001b[0m in \u001b[0;36mbuild_model\u001b[0;34m(self, verbose)\u001b[0m\n\u001b[1;32m    344\u001b[0m         \"\"\"\n\u001b[1;32m    345\u001b[0m         \u001b[0;32mif\u001b[0m \u001b[0mself\u001b[0m\u001b[0;34m.\u001b[0m\u001b[0m_result\u001b[0m \u001b[0;32mis\u001b[0m \u001b[0;32mNone\u001b[0m\u001b[0;34m:\u001b[0m\u001b[0;34m\u001b[0m\u001b[0;34m\u001b[0m\u001b[0m\n\u001b[0;32m--> 346\u001b[0;31m             self._result, self._model = self._modelbuilder._build_model(\n\u001b[0m\u001b[1;32m    347\u001b[0m                 \u001b[0mself\u001b[0m\u001b[0;34m.\u001b[0m\u001b[0mgoal\u001b[0m\u001b[0;34m(\u001b[0m\u001b[0;34m)\u001b[0m\u001b[0;34m,\u001b[0m \u001b[0mself\u001b[0m\u001b[0;34m.\u001b[0m\u001b[0massumptions\u001b[0m\u001b[0;34m(\u001b[0m\u001b[0;34m)\u001b[0m\u001b[0;34m,\u001b[0m \u001b[0mverbose\u001b[0m\u001b[0;34m\u001b[0m\u001b[0;34m\u001b[0m\u001b[0m\n\u001b[1;32m    348\u001b[0m             )\n",
      "\u001b[0;32m~/Library/Python/3.8/lib/python/site-packages/nltk/inference/mace.py\u001b[0m in \u001b[0;36m_build_model\u001b[0;34m(self, goal, assumptions, verbose)\u001b[0m\n\u001b[1;32m    247\u001b[0m             \u001b[0massumptions\u001b[0m \u001b[0;34m=\u001b[0m \u001b[0;34m[\u001b[0m\u001b[0;34m]\u001b[0m\u001b[0;34m\u001b[0m\u001b[0;34m\u001b[0m\u001b[0m\n\u001b[1;32m    248\u001b[0m \u001b[0;34m\u001b[0m\u001b[0m\n\u001b[0;32m--> 249\u001b[0;31m         stdout, returncode = self._call_mace4(\n\u001b[0m\u001b[1;32m    250\u001b[0m             \u001b[0mself\u001b[0m\u001b[0;34m.\u001b[0m\u001b[0mprover9_input\u001b[0m\u001b[0;34m(\u001b[0m\u001b[0mgoal\u001b[0m\u001b[0;34m,\u001b[0m \u001b[0massumptions\u001b[0m\u001b[0;34m)\u001b[0m\u001b[0;34m,\u001b[0m \u001b[0mverbose\u001b[0m\u001b[0;34m=\u001b[0m\u001b[0mverbose\u001b[0m\u001b[0;34m\u001b[0m\u001b[0;34m\u001b[0m\u001b[0m\n\u001b[1;32m    251\u001b[0m         )\n",
      "\u001b[0;32m~/Library/Python/3.8/lib/python/site-packages/nltk/inference/mace.py\u001b[0m in \u001b[0;36m_call_mace4\u001b[0;34m(self, input_str, args, verbose)\u001b[0m\n\u001b[1;32m    262\u001b[0m         \"\"\"\n\u001b[1;32m    263\u001b[0m         \u001b[0;32mif\u001b[0m \u001b[0mself\u001b[0m\u001b[0;34m.\u001b[0m\u001b[0m_mace4_bin\u001b[0m \u001b[0;32mis\u001b[0m \u001b[0;32mNone\u001b[0m\u001b[0;34m:\u001b[0m\u001b[0;34m\u001b[0m\u001b[0;34m\u001b[0m\u001b[0m\n\u001b[0;32m--> 264\u001b[0;31m             \u001b[0mself\u001b[0m\u001b[0;34m.\u001b[0m\u001b[0m_mace4_bin\u001b[0m \u001b[0;34m=\u001b[0m \u001b[0mself\u001b[0m\u001b[0;34m.\u001b[0m\u001b[0m_find_binary\u001b[0m\u001b[0;34m(\u001b[0m\u001b[0;34m'mace4'\u001b[0m\u001b[0;34m,\u001b[0m \u001b[0mverbose\u001b[0m\u001b[0;34m)\u001b[0m\u001b[0;34m\u001b[0m\u001b[0;34m\u001b[0m\u001b[0m\n\u001b[0m\u001b[1;32m    265\u001b[0m \u001b[0;34m\u001b[0m\u001b[0m\n\u001b[1;32m    266\u001b[0m         \u001b[0mupdated_input_str\u001b[0m \u001b[0;34m=\u001b[0m \u001b[0;34m''\u001b[0m\u001b[0;34m\u001b[0m\u001b[0;34m\u001b[0m\u001b[0m\n",
      "\u001b[0;32m~/Library/Python/3.8/lib/python/site-packages/nltk/inference/prover9.py\u001b[0m in \u001b[0;36m_find_binary\u001b[0;34m(self, name, verbose)\u001b[0m\n\u001b[1;32m    176\u001b[0m         \u001b[0;32mif\u001b[0m \u001b[0mself\u001b[0m\u001b[0;34m.\u001b[0m\u001b[0m_binary_location\u001b[0m \u001b[0;32mis\u001b[0m \u001b[0;32mnot\u001b[0m \u001b[0;32mNone\u001b[0m\u001b[0;34m:\u001b[0m\u001b[0;34m\u001b[0m\u001b[0;34m\u001b[0m\u001b[0m\n\u001b[1;32m    177\u001b[0m             \u001b[0mbinary_locations\u001b[0m \u001b[0;34m+=\u001b[0m \u001b[0;34m[\u001b[0m\u001b[0mself\u001b[0m\u001b[0;34m.\u001b[0m\u001b[0m_binary_location\u001b[0m\u001b[0;34m]\u001b[0m\u001b[0;34m\u001b[0m\u001b[0;34m\u001b[0m\u001b[0m\n\u001b[0;32m--> 178\u001b[0;31m         return nltk.internals.find_binary(\n\u001b[0m\u001b[1;32m    179\u001b[0m             \u001b[0mname\u001b[0m\u001b[0;34m,\u001b[0m\u001b[0;34m\u001b[0m\u001b[0;34m\u001b[0m\u001b[0m\n\u001b[1;32m    180\u001b[0m             \u001b[0msearchpath\u001b[0m\u001b[0;34m=\u001b[0m\u001b[0mbinary_locations\u001b[0m\u001b[0;34m,\u001b[0m\u001b[0;34m\u001b[0m\u001b[0;34m\u001b[0m\u001b[0m\n",
      "\u001b[0;32m~/Library/Python/3.8/lib/python/site-packages/nltk/internals.py\u001b[0m in \u001b[0;36mfind_binary\u001b[0;34m(name, path_to_bin, env_vars, searchpath, binary_names, url, verbose)\u001b[0m\n\u001b[1;32m    693\u001b[0m     \u001b[0mverbose\u001b[0m\u001b[0;34m=\u001b[0m\u001b[0;32mFalse\u001b[0m\u001b[0;34m,\u001b[0m\u001b[0;34m\u001b[0m\u001b[0;34m\u001b[0m\u001b[0m\n\u001b[1;32m    694\u001b[0m ):\n\u001b[0;32m--> 695\u001b[0;31m     return next(\n\u001b[0m\u001b[1;32m    696\u001b[0m         find_binary_iter(\n\u001b[1;32m    697\u001b[0m             \u001b[0mname\u001b[0m\u001b[0;34m,\u001b[0m \u001b[0mpath_to_bin\u001b[0m\u001b[0;34m,\u001b[0m \u001b[0menv_vars\u001b[0m\u001b[0;34m,\u001b[0m \u001b[0msearchpath\u001b[0m\u001b[0;34m,\u001b[0m \u001b[0mbinary_names\u001b[0m\u001b[0;34m,\u001b[0m \u001b[0murl\u001b[0m\u001b[0;34m,\u001b[0m \u001b[0mverbose\u001b[0m\u001b[0;34m\u001b[0m\u001b[0;34m\u001b[0m\u001b[0m\n",
      "\u001b[0;32m~/Library/Python/3.8/lib/python/site-packages/nltk/internals.py\u001b[0m in \u001b[0;36mfind_binary_iter\u001b[0;34m(name, path_to_bin, env_vars, searchpath, binary_names, url, verbose)\u001b[0m\n\u001b[1;32m    678\u001b[0m     \u001b[0;34m:\u001b[0m\u001b[0mparam\u001b[0m \u001b[0mverbose\u001b[0m\u001b[0;34m:\u001b[0m \u001b[0mWhether\u001b[0m \u001b[0;32mor\u001b[0m \u001b[0;32mnot\u001b[0m \u001b[0mto\u001b[0m \u001b[0mprint\u001b[0m \u001b[0mpath\u001b[0m \u001b[0mwhen\u001b[0m \u001b[0ma\u001b[0m \u001b[0mfile\u001b[0m \u001b[0;32mis\u001b[0m \u001b[0mfound\u001b[0m\u001b[0;34m.\u001b[0m\u001b[0;34m\u001b[0m\u001b[0;34m\u001b[0m\u001b[0m\n\u001b[1;32m    679\u001b[0m     \"\"\"\n\u001b[0;32m--> 680\u001b[0;31m     for file in find_file_iter(\n\u001b[0m\u001b[1;32m    681\u001b[0m         \u001b[0mpath_to_bin\u001b[0m \u001b[0;32mor\u001b[0m \u001b[0mname\u001b[0m\u001b[0;34m,\u001b[0m \u001b[0menv_vars\u001b[0m\u001b[0;34m,\u001b[0m \u001b[0msearchpath\u001b[0m\u001b[0;34m,\u001b[0m \u001b[0mbinary_names\u001b[0m\u001b[0;34m,\u001b[0m \u001b[0murl\u001b[0m\u001b[0;34m,\u001b[0m \u001b[0mverbose\u001b[0m\u001b[0;34m\u001b[0m\u001b[0;34m\u001b[0m\u001b[0m\n\u001b[1;32m    682\u001b[0m     ):\n",
      "\u001b[0;32m~/Library/Python/3.8/lib/python/site-packages/nltk/internals.py\u001b[0m in \u001b[0;36mfind_file_iter\u001b[0;34m(filename, env_vars, searchpath, file_names, url, verbose, finding_dir)\u001b[0m\n\u001b[1;32m    637\u001b[0m             \u001b[0mmsg\u001b[0m \u001b[0;34m+=\u001b[0m \u001b[0;34m'\\n\\n  For more information on %s, see:\\n    <%s>'\u001b[0m \u001b[0;34m%\u001b[0m \u001b[0;34m(\u001b[0m\u001b[0mfilename\u001b[0m\u001b[0;34m,\u001b[0m \u001b[0murl\u001b[0m\u001b[0;34m)\u001b[0m\u001b[0;34m\u001b[0m\u001b[0;34m\u001b[0m\u001b[0m\n\u001b[1;32m    638\u001b[0m         \u001b[0mdiv\u001b[0m \u001b[0;34m=\u001b[0m \u001b[0;34m'='\u001b[0m \u001b[0;34m*\u001b[0m \u001b[0;36m75\u001b[0m\u001b[0;34m\u001b[0m\u001b[0;34m\u001b[0m\u001b[0m\n\u001b[0;32m--> 639\u001b[0;31m         \u001b[0;32mraise\u001b[0m \u001b[0mLookupError\u001b[0m\u001b[0;34m(\u001b[0m\u001b[0;34m'\\n\\n%s\\n%s\\n%s'\u001b[0m \u001b[0;34m%\u001b[0m \u001b[0;34m(\u001b[0m\u001b[0mdiv\u001b[0m\u001b[0;34m,\u001b[0m \u001b[0mmsg\u001b[0m\u001b[0;34m,\u001b[0m \u001b[0mdiv\u001b[0m\u001b[0;34m)\u001b[0m\u001b[0;34m)\u001b[0m\u001b[0;34m\u001b[0m\u001b[0;34m\u001b[0m\u001b[0m\n\u001b[0m\u001b[1;32m    640\u001b[0m \u001b[0;34m\u001b[0m\u001b[0m\n\u001b[1;32m    641\u001b[0m \u001b[0;34m\u001b[0m\u001b[0m\n",
      "\u001b[0;31mLookupError\u001b[0m: \n\n===========================================================================\nNLTK was unable to find the mace4 file!\nUse software specific configuration paramaters or set the PROVER9 environment variable.\n\n  Searched in:\n    - /usr/local/bin/prover9\n    - /usr/local/bin/prover9/bin\n    - /usr/local/bin\n    - /usr/bin\n    - /usr/local/prover9\n    - /usr/local/share/prover9\n\n  For more information on mace4, see:\n    <http://www.cs.unm.edu/~mccune/prover9/>\n==========================================================================="
     ]
    }
   ],
   "source": [
    "# Use apply_model_builder from problem-set-2-part2\n",
    "\n",
    "def apply_model_builder(premises,goals):\n",
    "    for premise in premises:\n",
    "        for goal in goals:\n",
    "            print(\"Premise : %s\" % (premise))\n",
    "            print(\"Goal    : %s\" % (goal))\n",
    "            mc1 = nltk.MaceCommand(goal, assumptions=[premise, a1, a2, a3])\n",
    "            mc2 = nltk.MaceCommand(None, assumptions=[premise, goal, a1, a2, a3])\n",
    "            mc1.build_model()\n",
    "            mc2.build_model()\n",
    "            print(\"a model-1:\")\n",
    "            print(mc1.valuation)\n",
    "            print()\n",
    "            print(\"a model-2:\")\n",
    "            print(mc2.valuation)\n",
    "            print(10*'...')\n",
    "            print()\n",
    "# There is something missing in this code.\n",
    "mypremises = sentence_readings['no delegate obtained results from the survey']\n",
    "mygoals = sentence_readings['no delegate obtained interesting results from the survey']\n",
    "a1 = read_expr('all x. (result(x) -> -(delegate(x) | survey(x)))')\n",
    "a2 = read_expr('all x. (delegate(x) -> -(result(x) | survey(x)))')\n",
    "a3 = read_expr('exist x. (result(x) & interesting(x))')\n",
    "apply_model_builder(mypremises,mygoals)"
   ]
  },
  {
   "cell_type": "markdown",
   "metadata": {},
   "source": [
    "**3d.** Use Prover9 to show which readings of the second sentence entail a reading of the first sentence. **[1 mark]**"
   ]
  },
  {
   "cell_type": "code",
   "execution_count": null,
   "metadata": {},
   "outputs": [],
   "source": [
    "# Use apply_theorem_prover from problem-set-2-part2\n",
    "\n",
    "# There is something missing in this code.\n",
    "#apply_theorem_prover(...,...)\n",
    "prover = nltk.Prover9()\n",
    "def apply_theorem_prover(premises, goals):\n",
    "    for premise in premises:\n",
    "        for goal in goals:\n",
    "            print(\"Premise      : %s\" % (premise))\n",
    "            print(\"Goal         : %s\" % (goal))\n",
    "            print(\"Prover result: %s\" % (prover.prove(goal, [premise])))\n",
    "            print(10*'----')\n",
    "mypremises = sentence_readings['no delegate obtained results from the survey']\n",
    "mygoals = sentence_readings['no delegate obtained interesting results from the survey']\n",
    "apply_theorem_prover(mypremises,mygoals)"
   ]
  },
  {
   "cell_type": "markdown",
   "metadata": {},
   "source": [
    "**3e.** Possibly there is a reading of the second sentence that does not entail the first sentence.\n",
    "Which is it? \n",
    "Explain why the entailment does not hold? Does this reading agree with our intuitions about the meaning of the sentence? **[1 + 2 + 1 = 4 marks]**"
   ]
  },
  {
   "cell_type": "raw",
   "metadata": {},
   "source": [
    "** Your answer **"
   ]
  }
 ],
 "metadata": {
  "kernelspec": {
   "display_name": "Python 3",
   "language": "python",
   "name": "python3"
  },
  "language_info": {
   "codemirror_mode": {
    "name": "ipython",
    "version": 3
   },
   "file_extension": ".py",
   "mimetype": "text/x-python",
   "name": "python",
   "nbconvert_exporter": "python",
   "pygments_lexer": "ipython3",
   "version": "3.8.0"
  }
 },
 "nbformat": 4,
 "nbformat_minor": 4
}

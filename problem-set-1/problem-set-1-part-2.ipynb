{
 "cells": [
  {
   "cell_type": "markdown",
   "metadata": {},
   "source": [
    "# Problem Set 1 - Part 2: Lambda Calculus"
   ]
  },
  {
   "cell_type": "markdown",
   "metadata": {},
   "source": [
    "The lab is an exploration and learning exercise to be done in a group and also in discussion with the teachers and other students.\n",
    "\n",
    "Before starting, please read the following instructions on [how to work on group assignments](https://github.com/sdobnik/computational-semantics/blob/master/README.md).\n",
    "\n",
    "Write all your answers and the code in the appropriate boxes below."
   ]
  },
  {
   "cell_type": "code",
   "execution_count": 8,
   "metadata": {},
   "outputs": [],
   "source": [
    "# This task needs NLTK and Jupyter Notebook (IPython package).\n",
    "import nltk\n",
    "from nltk.grammar import FeatureGrammar\n",
    "from utils import display_latex, display_translation, display_tree, display, Markdown"
   ]
  },
  {
   "cell_type": "markdown",
   "metadata": {},
   "source": [
    "### 1. Types of (Expression) objects in Python/NLTK and semantic types\n",
    "\n",
    "First order logic expressions and lambda expressions are our **object language** that we use to represent semantics of linguistic expressions. The object language is implemented in Python which is the **meta language**. We write logic and lambda expressions as strings that are then converted to Python/NLTK objects that are then processed with Python methods.\n",
    "\n",
    "The goal of this question is to learn about **types**. In the object language we use types that correspond to the meaning of the corresponding expressions in natural language (the basic types `e` and `t` and function types based on these such as `<e,t>`), in the meta language we use types that are practically required for computation (`<IndividualVariableExpression x>`). How do these type systems compare?\n",
    "\n",
    "We can translate logic expressions written as a string into one of the `nltk.sem.logic.Expression` types as follows:"
   ]
  },
  {
   "cell_type": "code",
   "execution_count": 17,
   "metadata": {},
   "outputs": [
    {
     "data": {
      "text/markdown": [
       "$x$ = `<IndividualVariableExpression x>`"
      ],
      "text/plain": [
       "<IPython.core.display.Markdown object>"
      ]
     },
     "metadata": {},
     "output_type": "display_data"
    },
    {
     "data": {
      "text/markdown": [
       "$P$ = `<FunctionVariableExpression P>`"
      ],
      "text/plain": [
       "<IPython.core.display.Markdown object>"
      ]
     },
     "metadata": {},
     "output_type": "display_data"
    },
    {
     "data": {
      "text/markdown": [
       "$rob$ = `<ConstantExpression rob>`"
      ],
      "text/plain": [
       "<IPython.core.display.Markdown object>"
      ]
     },
     "metadata": {},
     "output_type": "display_data"
    },
    {
     "data": {
      "text/markdown": [
       "$\\lambda\\ x.P(x)$ = `<LambdaExpression \\x.P(x)>`"
      ],
      "text/plain": [
       "<IPython.core.display.Markdown object>"
      ]
     },
     "metadata": {},
     "output_type": "display_data"
    },
    {
     "data": {
      "text/markdown": [
       "$\\lambda\\ x.homosapien(x)$ = `<LambdaExpression \\x.homosapien(x)>`"
      ],
      "text/plain": [
       "<IPython.core.display.Markdown object>"
      ]
     },
     "metadata": {},
     "output_type": "display_data"
    },
    {
     "data": {
      "text/markdown": [
       "$P(x)$ = `<ApplicationExpression P(x)>`"
      ],
      "text/plain": [
       "<IPython.core.display.Markdown object>"
      ]
     },
     "metadata": {},
     "output_type": "display_data"
    },
    {
     "data": {
      "text/markdown": [
       "$P(rob)$ = `<ApplicationExpression P(rob)>`"
      ],
      "text/plain": [
       "<IPython.core.display.Markdown object>"
      ]
     },
     "metadata": {},
     "output_type": "display_data"
    },
    {
     "data": {
      "text/markdown": [
       "$homosapien(rob)$ = `<ApplicationExpression homosapien(rob)>`"
      ],
      "text/plain": [
       "<IPython.core.display.Markdown object>"
      ]
     },
     "metadata": {},
     "output_type": "display_data"
    },
    {
     "data": {
      "text/markdown": [
       "$(\\lambda\\ y\\ x.love(x,y))(rob)$ = `<ApplicationExpression (\\y x.love(x,y))(rob)>`"
      ],
      "text/plain": [
       "<IPython.core.display.Markdown object>"
      ]
     },
     "metadata": {},
     "output_type": "display_data"
    },
    {
     "data": {
      "text/markdown": [
       "$(homosapien(rob)\\ \\land\\ run(rob))$ = `<AndExpression (homosapien(rob) & run(rob))>`"
      ],
      "text/plain": [
       "<IPython.core.display.Markdown object>"
      ]
     },
     "metadata": {},
     "output_type": "display_data"
    },
    {
     "data": {
      "text/markdown": [
       "$\\exists\\ x.(homosapien(x)\\ \\land\\ run(x))$ = `<ExistsExpression exists x.(homosapien(x) & run(x))>`"
      ],
      "text/plain": [
       "<IPython.core.display.Markdown object>"
      ]
     },
     "metadata": {},
     "output_type": "display_data"
    },
    {
     "data": {
      "text/markdown": [
       "$\\forall\\ x.(homosapien(x)\\ \\land\\ run(x))$ = `<AllExpression all x.(homosapien(x) & run(x))>`"
      ],
      "text/plain": [
       "<IPython.core.display.Markdown object>"
      ]
     },
     "metadata": {},
     "output_type": "display_data"
    },
    {
     "data": {
      "text/markdown": [
       "\n",
       "**Note**: *Python interprets `\\` as a marker for special characters.\n",
       "To prevent this, we use `r` in `r\"strings\"` in order to force the raw interpretation of strings.*\n"
      ],
      "text/plain": [
       "<IPython.core.display.Markdown object>"
      ]
     },
     "metadata": {},
     "output_type": "display_data"
    }
   ],
   "source": [
    "read_expr = nltk.sem.Expression.fromstring\n",
    "\n",
    "# different representations have different valid types:\n",
    "expressions = [\n",
    "    read_expr(r\"x\"),\n",
    "    read_expr(r\"P\"),\n",
    "    read_expr(r\"rob\"),\n",
    "    read_expr(r\"\\x.P(x)\"),\n",
    "    read_expr(r\"\\x.homosapien(x)\"),\n",
    "    read_expr(r\"P(x)\"),\n",
    "    read_expr(r\"P(rob)\"),\n",
    "    read_expr(r\"homosapien(rob)\"),\n",
    "    read_expr(r\"(\\y \\x.love(x, y))(rob)\"),\n",
    "    read_expr(r\"homosapien(rob) & run(rob)\"),\n",
    "    read_expr(r\"exists x.(homosapien(x) & run(x))\"),\n",
    "    read_expr(r\"all x.(homosapien(x) & run(x))\"),\n",
    "]\n",
    "\n",
    "for expr in expressions:\n",
    "    display_latex(expr, with_types=True)\n",
    "\n",
    "display(Markdown(r\"\"\"\n",
    "**Note**: *Python interprets `\\` as a marker for special characters.\n",
    "To prevent this, we use `r` in `r\"strings\"` in order to force the raw interpretation of strings.*\n",
    "\"\"\"))"
   ]
  },
  {
   "cell_type": "markdown",
   "metadata": {},
   "source": [
    "**1a.** Using the types of Python objects is not sufficient to represent the semantics of linguistic expressions. Consider the expression below and explain why this is the case. Hint: what is our desired semantic type for \"rob\", \"mary\" and \"rob & mary\"? **[2 marks]**:"
   ]
  },
  {
   "cell_type": "code",
   "execution_count": 20,
   "metadata": {},
   "outputs": [
    {
     "data": {
      "text/markdown": [
       "$(rob\\ \\land\\ marry)$ = `<AndExpression (rob & marry)>`"
      ],
      "text/plain": [
       "<IPython.core.display.Markdown object>"
      ]
     },
     "metadata": {},
     "output_type": "display_data"
    }
   ],
   "source": [
    "display_latex(read_expr(r\"rob & marry\"), with_types=True)"
   ]
  },
  {
   "cell_type": "markdown",
   "metadata": {},
   "source": [
    "*Write your answer here*\n",
    "\n",
    "..."
   ]
  },
  {
   "cell_type": "markdown",
   "metadata": {},
   "source": [
    "**1b.** How do the semantic types of natural language expressions map to the types of Python objects? Explain based on the examples above. **[4 marks]** "
   ]
  },
  {
   "cell_type": "markdown",
   "metadata": {},
   "source": [
    "\n",
    "For example:\n",
    "\n",
    "- `IndividualVariableExpression` and `FunctionVariableExpression` can be of any semantic type. They are not associated with any specific semantic type value.\n",
    "- `AndExpression` and `OrExpression` are translated to t-type (See question 1a).\n",
    "\n",
    "Replace the dots with your answers:\n",
    "\n",
    "- `LambdaExpression`  ...\n",
    "- `ConstantExpression`  ...\n",
    "- `ExistsExpression` and `AllExpression` ...\n",
    "- `ApplicationExpression`  ...\n"
   ]
  },
  {
   "cell_type": "markdown",
   "metadata": {},
   "source": [
    "### 2. Translate verb phrases\n",
    "\n",
    "Translate the verb phrases using $\\lambda$ abstracts and verify the resulting formulae with `Expression.fromstring`.\n",
    "\n",
    "In this task, you need to translate verb phrases similar to these example:"
   ]
  },
  {
   "cell_type": "code",
   "execution_count": 10,
   "metadata": {},
   "outputs": [
    {
     "data": {
      "text/markdown": [
       "\"read by Rob\": $\\lambda\\ x.read(rob,x)$"
      ],
      "text/plain": [
       "<IPython.core.display.Markdown object>"
      ]
     },
     "metadata": {},
     "output_type": "display_data"
    },
    {
     "data": {
      "text/markdown": [
       "\"read a book\": $\\lambda\\ x.\\exists\\ y.(book(y)\\ \\land\\ read(x,y))$"
      ],
      "text/plain": [
       "<IPython.core.display.Markdown object>"
      ]
     },
     "metadata": {},
     "output_type": "display_data"
    }
   ],
   "source": [
    "translations = {\n",
    "    \"read by Rob\": read_expr(r\"\\x.read(rob, x)\"),\n",
    "    \"read a book\": read_expr(r\"\\x. exists y. (book(y) & read(x, y))\"),\n",
    "}\n",
    "\n",
    "for text, expr in translations.items():\n",
    "    display_translation(text, expr)"
   ]
  },
  {
   "cell_type": "markdown",
   "metadata": {},
   "source": [
    "Replace `xxx` with valid representations in dictionary of expressions **[4 marks]**:"
   ]
  },
  {
   "cell_type": "code",
   "execution_count": 5,
   "metadata": {},
   "outputs": [
    {
     "data": {
      "text/markdown": [
       "\"be admired by no-one\": `<ConstantExpression xxx>`"
      ],
      "text/plain": [
       "<IPython.core.display.Markdown object>"
      ]
     },
     "metadata": {},
     "output_type": "display_data"
    },
    {
     "data": {
      "text/markdown": [
       "\"catch a fish and eat it\": `<ConstantExpression xxx>`"
      ],
      "text/plain": [
       "<IPython.core.display.Markdown object>"
      ]
     },
     "metadata": {},
     "output_type": "display_data"
    },
    {
     "data": {
      "text/markdown": [
       "\"read a book or watch a film\": `<ConstantExpression xxx>`"
      ],
      "text/plain": [
       "<IPython.core.display.Markdown object>"
      ]
     },
     "metadata": {},
     "output_type": "display_data"
    },
    {
     "data": {
      "text/markdown": [
       "\"give every boy a dime\": `<ConstantExpression xxx>`"
      ],
      "text/plain": [
       "<IPython.core.display.Markdown object>"
      ]
     },
     "metadata": {},
     "output_type": "display_data"
    }
   ],
   "source": [
    "# fix the following translations:\n",
    "translations = {\n",
    "    \"be admired by no-one\":        read_expr(r\"xxx\"),\n",
    "    \"catch a fish and eat it\":     read_expr(r\"xxx\"),\n",
    "    \"read a book or watch a film\": read_expr(r\"xxx\"),\n",
    "    \"give every boy a dime\":       read_expr(r\"xxx\")\n",
    "}\n",
    "\n",
    "for text, expr in translations.items():\n",
    "    display_translation(text, expr, to_latex=False)"
   ]
  },
  {
   "cell_type": "markdown",
   "metadata": {},
   "source": [
    "### 3. Function application and $\\beta$-reduction\n",
    "In the following examples some code has been deleted and replaced with `<????>`. What has been deleted? Verify that your answer is correct. **[4 marks]**"
   ]
  },
  {
   "cell_type": "code",
   "execution_count": 6,
   "metadata": {},
   "outputs": [
    {
     "data": {
      "text/markdown": [
       "$????(pip)$"
      ],
      "text/plain": [
       "<IPython.core.display.Markdown object>"
      ]
     },
     "metadata": {},
     "output_type": "display_data"
    },
    {
     "data": {
      "text/markdown": [
       "$like(pip,rob)$"
      ],
      "text/plain": [
       "<IPython.core.display.Markdown object>"
      ]
     },
     "metadata": {},
     "output_type": "display_data"
    },
    {
     "data": {
      "text/markdown": [
       "$????(\\lambda\\ x.play(x,scherzo))$"
      ],
      "text/plain": [
       "<IPython.core.display.Markdown object>"
      ]
     },
     "metadata": {},
     "output_type": "display_data"
    },
    {
     "data": {
      "text/markdown": [
       "$play(pip,scherzo)$"
      ],
      "text/plain": [
       "<IPython.core.display.Markdown object>"
      ]
     },
     "metadata": {},
     "output_type": "display_data"
    },
    {
     "data": {
      "text/markdown": [
       "$????(\\lambda\\ x.play(x,etude))$"
      ],
      "text/plain": [
       "<IPython.core.display.Markdown object>"
      ]
     },
     "metadata": {},
     "output_type": "display_data"
    },
    {
     "data": {
      "text/markdown": [
       "$\\exists\\ x.(woman(x)\\ \\land\\ play(x,etude))$"
      ],
      "text/plain": [
       "<IPython.core.display.Markdown object>"
      ]
     },
     "metadata": {},
     "output_type": "display_data"
    },
    {
     "data": {
      "text/markdown": [
       "$????(\\lambda\\ P.\\forall\\ x.(musician(x)\\ \\to\\ P(x)))$"
      ],
      "text/plain": [
       "<IPython.core.display.Markdown object>"
      ]
     },
     "metadata": {},
     "output_type": "display_data"
    },
    {
     "data": {
      "text/markdown": [
       "$\\lambda\\ x.\\forall\\ z_{2}.(musician(z_{2})\\ \\to\\ like(x,z_{2}))$"
      ],
      "text/plain": [
       "<IPython.core.display.Markdown object>"
      ]
     },
     "metadata": {},
     "output_type": "display_data"
    }
   ],
   "source": [
    "e1 = read_expr(r'????')\n",
    "e2 = read_expr(r'pip')\n",
    "e3 = nltk.sem.ApplicationExpression(e1,e2) \n",
    "display_latex(e3.simplify())\n",
    "# with reuslt like(pip,rob).\n",
    "display_latex(read_expr(r\"like(pip,rob)\"))\n",
    "\n",
    "e1 = read_expr(r'????')\n",
    "e2 = read_expr(r'\\x.play(x,scherzo)') \n",
    "e3 = nltk.sem.ApplicationExpression(e1,e2)\n",
    "display_latex(e3.simplify())\n",
    "# with result play(pip,scherzo).\n",
    "display_latex(read_expr(r\"play(pip,scherzo)\"))\n",
    "\n",
    "e1 = read_expr(r'????')\n",
    "e2 = read_expr(r'\\x.play(x,etude)') \n",
    "e3 = nltk.sem.ApplicationExpression(e1,e2) \n",
    "display_latex(e3.simplify())\n",
    "# with result exists x.(woman(x) & play(x,etude)).\n",
    "display_latex(read_expr(r\"exists x.(woman(x) & play(x,etude))\"))\n",
    "\n",
    "e1 = read_expr(r'????')\n",
    "e2 = read_expr(r'\\P.all x. (musician(x) -> P(x))') \n",
    "e3 = nltk.sem.ApplicationExpression(e1,e2) \n",
    "display_latex(e3.simplify())\n",
    "# with result \\x.all z2.(musician(z2) -> like(x,z2)).\n",
    "display_latex(read_expr(r\"\\x.all z2.(musician(z2) -> like(x,z2))\"))"
   ]
  },
  {
   "cell_type": "markdown",
   "metadata": {},
   "source": [
    "### 4. Extend FCFG Grammar\n",
    "Extend the grammar simple_sem.fcfg that comes with NLTK `(~/nltk_data/grammars/book_grammars/)` so that it will cover the following sentences. The grammar is included in the code below as a string.\n",
    "\n",
    "- no man gives a bone to a dog **[4 marks]**\n",
    "- a boy and a girl chased every dog **[2 marks]**\n",
    "- every dog chased a boy and a girl **[2 marks]**\n",
    "- a brown cat chases a white dog **[4 marks]**\n",
    "\n",
    "The last example includes adjectives. Several different kinds of adjectives are discussed in the literature. In this example we have an intersective adjective. The denotiation we want for \"brown cat\" is a a set that we get by intersecting the set of individuals that are brown and the set of individuals that are cats."
   ]
  },
  {
   "cell_type": "code",
   "execution_count": 7,
   "metadata": {},
   "outputs": [],
   "source": [
    "fcfg_string_orginal = r\"\"\"\n",
    "% start S\n",
    "############################\n",
    "# Grammar Rules\n",
    "#############################\n",
    "\n",
    "S[SEM = <?subj(?vp)>] -> NP[NUM=?n,SEM=?subj] VP[NUM=?n,SEM=?vp]\n",
    "\n",
    "NP[NUM=?n,SEM=<?det(?nom)> ] -> Det[NUM=?n,SEM=?det]  Nom[NUM=?n,SEM=?nom]\n",
    "NP[LOC=?l,NUM=?n,SEM=?np] -> PropN[LOC=?l,NUM=?n,SEM=?np]\n",
    "\n",
    "Nom[NUM=?n,SEM=?nom] -> N[NUM=?n,SEM=?nom]\n",
    "\n",
    "VP[NUM=?n,SEM=?v] -> IV[NUM=?n,SEM=?v]\n",
    "VP[NUM=?n,SEM=<?v(?obj)>] -> TV[NUM=?n,SEM=?v] NP[SEM=?obj]\n",
    "VP[NUM=?n,SEM=<?v(?obj,?pp)>] -> DTV[NUM=?n,SEM=?v] NP[SEM=?obj] PP[+TO,SEM=?pp]\n",
    "\n",
    "PP[+TO, SEM=?np] -> P[+TO] NP[SEM=?np]\n",
    "\n",
    "#############################\n",
    "# Lexical Rules\n",
    "#############################\n",
    "\n",
    "PropN[-LOC,NUM=sg,SEM=<\\P.P(angus)>] -> 'Angus'\n",
    "PropN[-LOC,NUM=sg,SEM=<\\P.P(cyril)>] -> 'Cyril'\n",
    "PropN[-LOC,NUM=sg,SEM=<\\P.P(irene)>] -> 'Irene'\n",
    " \n",
    "Det[NUM=sg,SEM=<\\P Q.all x.(P(x) -> Q(x))>] -> 'every'\n",
    "Det[NUM=pl,SEM=<\\P Q.all x.(P(x) -> Q(x))>] -> 'all'\n",
    "Det[SEM=<\\P Q.exists x.(P(x) & Q(x))>] -> 'some'\n",
    "Det[NUM=sg,SEM=<\\P Q.exists x.(P(x) & Q(x))>] -> 'a'\n",
    "Det[NUM=sg,SEM=<\\P Q.exists x.(P(x) & Q(x))>] -> 'an'\n",
    "\n",
    "N[NUM=sg,SEM=<\\x.man(x)>] -> 'man'\n",
    "N[NUM=sg,SEM=<\\x.girl(x)>] -> 'girl'\n",
    "N[NUM=sg,SEM=<\\x.boy(x)>] -> 'boy'\n",
    "N[NUM=sg,SEM=<\\x.bone(x)>] -> 'bone'\n",
    "N[NUM=sg,SEM=<\\x.ankle(x)>] -> 'ankle'\n",
    "N[NUM=sg,SEM=<\\x.dog(x)>] -> 'dog'\n",
    "N[NUM=pl,SEM=<\\x.dog(x)>] -> 'dogs'\n",
    "\n",
    "IV[NUM=sg,SEM=<\\x.bark(x)>,TNS=pres] -> 'barks'\n",
    "IV[NUM=pl,SEM=<\\x.bark(x)>,TNS=pres] -> 'bark'\n",
    "IV[NUM=sg,SEM=<\\x.walk(x)>,TNS=pres] -> 'walks'\n",
    "IV[NUM=pl,SEM=<\\x.walk(x)>,TNS=pres] -> 'walk'\n",
    "TV[NUM=sg,SEM=<\\X x.X(\\ y.chase(x,y))>,TNS=pres] -> 'chases'\n",
    "TV[NUM=pl,SEM=<\\X x.X(\\ y.chase(x,y))>,TNS=pres] -> 'chase'\n",
    "TV[NUM=sg,SEM=<\\X x.X(\\ y.see(x,y))>,TNS=pres] -> 'sees'\n",
    "TV[NUM=pl,SEM=<\\X x.X(\\ y.see(x,y))>,TNS=pres] -> 'see'\n",
    "TV[NUM=sg,SEM=<\\X x.X(\\ y.bite(x,y))>,TNS=pres] -> 'bites'\n",
    "TV[NUM=pl,SEM=<\\X x.X(\\ y.bite(x,y))>,TNS=pres] -> 'bite'\n",
    "DTV[NUM=sg,SEM=<\\Y X x.X(\\z.Y(\\y.give(x,y,z)))>,TNS=pres] -> 'gives'\n",
    "DTV[NUM=pl,SEM=<\\Y X x.X(\\z.Y(\\y.give(x,y,z)))>,TNS=pres] -> 'give'\n",
    "\n",
    "P[+to] -> 'to'\n",
    "\"\"\""
   ]
  },
  {
   "cell_type": "code",
   "execution_count": 8,
   "metadata": {},
   "outputs": [],
   "source": [
    "fcfg_string = fcfg_string_orginal + r\"\"\"\n",
    "## Your answers here\n",
    "# Det[???] -> ???\n",
    "# TV[???] -> ???\n",
    "# TV[???] -> ???\n",
    "# CONJ -> ???\n",
    "# NP[???] -> NP[???] CONJ NP[???]\n",
    "# N[???] -> ???\n",
    "# ADJ[???] -> ???\n",
    "# NP[???] -> Det[???] ADJ[???] Nom[???]\n",
    "\"\"\"\n",
    "\n",
    "# Load `fcfg_string` as a feature grammar:\n",
    "syntax = FeatureGrammar.fromstring(fcfg_string)"
   ]
  },
  {
   "cell_type": "markdown",
   "metadata": {},
   "source": [
    "Run the code below without errors:"
   ]
  },
  {
   "cell_type": "code",
   "execution_count": null,
   "metadata": {},
   "outputs": [],
   "source": [
    "# remove sentences if you couldn't find answer for them\n",
    "sentences = [\n",
    "    'no man gives a bone to a dog',\n",
    "    'a boy and a girl chased every dog',\n",
    "    'every dog chased a boy and a girl',\n",
    "    'a brown cat chases a white dog',\n",
    "]\n",
    "for results in nltk.interpret_sents(sentences, syntax):\n",
    "    for (synrep, semrep) in results:\n",
    "        display(Markdown('----'))\n",
    "        display_latex(semrep) # prints the SEM feature of a tree\n",
    "        display_tree(synrep) # show the parse tree\n"
   ]
  },
  {
   "cell_type": "markdown",
   "metadata": {},
   "source": [
    "If you are working with iPython which is also running behind Jupyter notebooks and you are changing grammars and want to rerun a new version without restarting you may find `nltk.data.clear_cache()` useful."
   ]
  },
  {
   "cell_type": "markdown",
   "metadata": {},
   "source": [
    "### 5. Ambiguity in quantifiers\n",
    "\n",
    "Explain ambiguity of these sentences. \n",
    "\n",
    "Use parse the following sentences:\n",
    "\n",
    "- every dog bites a bone\n",
    "- a man gives a bone to every dog\n",
    "- every dog chased a boy and a girl *(optional)*"
   ]
  },
  {
   "cell_type": "code",
   "execution_count": 10,
   "metadata": {},
   "outputs": [
    {
     "data": {
      "text/markdown": [
       "----"
      ],
      "text/plain": [
       "<IPython.core.display.Markdown object>"
      ]
     },
     "metadata": {},
     "output_type": "display_data"
    },
    {
     "data": {
      "text/markdown": [
       "$\\forall\\ x.(dog(x)\\ \\to\\ \\exists\\ z_{4}.(bone(z_{4})\\ \\land\\ bite(x,z_{4})))$"
      ],
      "text/plain": [
       "<IPython.core.display.Markdown object>"
      ]
     },
     "metadata": {},
     "output_type": "display_data"
    },
    {
     "data": {
      "text/markdown": [
       "<img src=\"data:image/png;base64,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\">"
      ],
      "text/plain": [
       "<IPython.core.display.Markdown object>"
      ]
     },
     "metadata": {},
     "output_type": "display_data"
    },
    {
     "data": {
      "text/markdown": [
       "----"
      ],
      "text/plain": [
       "<IPython.core.display.Markdown object>"
      ]
     },
     "metadata": {},
     "output_type": "display_data"
    },
    {
     "data": {
      "text/markdown": [
       "$\\exists\\ x.(man(x)\\ \\land\\ \\forall\\ z_{6}.(dog(z_{6})\\ \\to\\ \\exists\\ z_{5}.(bone(z_{5})\\ \\land\\ give(x,z_{5},z_{6}))))$"
      ],
      "text/plain": [
       "<IPython.core.display.Markdown object>"
      ]
     },
     "metadata": {},
     "output_type": "display_data"
    },
    {
     "data": {
      "text/markdown": [
       "<img src=\"data:image/png;base64,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\">"
      ],
      "text/plain": [
       "<IPython.core.display.Markdown object>"
      ]
     },
     "metadata": {},
     "output_type": "display_data"
    }
   ],
   "source": [
    "syntax = FeatureGrammar.fromstring(fcfg_string_orginal)\n",
    "sentences = [\n",
    "    'all dogs bite a bone',\n",
    "    'a man gives a bone to every dog',\n",
    "    #'every dog chased a boy and a girl',\n",
    "]\n",
    "sents_reps = []\n",
    "for results in nltk.interpret_sents(sentences, syntax):\n",
    "    for (synrep, semrep) in results:\n",
    "        display(Markdown('----'))\n",
    "        display_latex(semrep) # prints the SEM feature of a tree\n",
    "        display_tree(synrep) # show the parse tree\n",
    "        sents_reps.append(semrep)"
   ]
  },
  {
   "cell_type": "markdown",
   "metadata": {},
   "source": [
    "5a. Write at least one alternative logical representation for each sentence. **[2+1 marks]**"
   ]
  },
  {
   "cell_type": "code",
   "execution_count": 11,
   "metadata": {},
   "outputs": [
    {
     "data": {
      "text/markdown": [
       "$???$"
      ],
      "text/plain": [
       "<IPython.core.display.Markdown object>"
      ]
     },
     "metadata": {},
     "output_type": "display_data"
    },
    {
     "data": {
      "text/markdown": [
       "$???$"
      ],
      "text/plain": [
       "<IPython.core.display.Markdown object>"
      ]
     },
     "metadata": {},
     "output_type": "display_data"
    },
    {
     "data": {
      "text/markdown": [
       "$???$"
      ],
      "text/plain": [
       "<IPython.core.display.Markdown object>"
      ]
     },
     "metadata": {},
     "output_type": "display_data"
    }
   ],
   "source": [
    "# your answers here\n",
    "\n",
    "# all dogs bite a bone\n",
    "semrep = read_expr(r\"???\")\n",
    "display_latex(semrep)\n",
    "\n",
    "# a man gives a bone to every dog\n",
    "semrep = read_expr(r\"???\")\n",
    "display_latex(semrep)\n",
    "\n",
    "# every dog chased a boy and a girl\n",
    "semrep = read_expr(r\"???\")\n",
    "display_latex(semrep)"
   ]
  },
  {
   "cell_type": "markdown",
   "metadata": {},
   "source": [
    "5b. Are they semantic or syntactic ambiguities? **[2+1 marks]**"
   ]
  },
  {
   "cell_type": "code",
   "execution_count": 12,
   "metadata": {},
   "outputs": [],
   "source": [
    "# your answers here\n"
   ]
  },
  {
   "cell_type": "markdown",
   "metadata": {},
   "source": [
    "### 6. Model and valuation\n",
    "\n",
    "Find a model for statements."
   ]
  },
  {
   "cell_type": "markdown",
   "metadata": {},
   "source": [
    "Original readings of two sentences in question 5 are false in the model below:"
   ]
  },
  {
   "cell_type": "code",
   "execution_count": 13,
   "metadata": {},
   "outputs": [
    {
     "name": "stdout",
     "output_type": "stream",
     "text": [
      "False\n"
     ]
    },
    {
     "data": {
      "text/markdown": [
       "$\\forall\\ x.(dog(x)\\ \\to\\ \\exists\\ z_{1}.(bone(z_{1})\\ \\land\\ bite(x,z_{1})))$"
      ],
      "text/plain": [
       "<IPython.core.display.Markdown object>"
      ]
     },
     "metadata": {},
     "output_type": "display_data"
    },
    {
     "data": {
      "text/markdown": [
       "----"
      ],
      "text/plain": [
       "<IPython.core.display.Markdown object>"
      ]
     },
     "metadata": {},
     "output_type": "display_data"
    },
    {
     "name": "stdout",
     "output_type": "stream",
     "text": [
      "False\n"
     ]
    },
    {
     "data": {
      "text/markdown": [
       "$\\exists\\ x.(man(x)\\ \\land\\ \\forall\\ z_{3}.(dog(z_{3})\\ \\to\\ \\exists\\ z_{2}.(bone(z_{2})\\ \\land\\ give(x,z_{2},z_{3}))))$"
      ],
      "text/plain": [
       "<IPython.core.display.Markdown object>"
      ]
     },
     "metadata": {},
     "output_type": "display_data"
    },
    {
     "data": {
      "text/markdown": [
       "----"
      ],
      "text/plain": [
       "<IPython.core.display.Markdown object>"
      ]
     },
     "metadata": {},
     "output_type": "display_data"
    }
   ],
   "source": [
    "dom = set([\n",
    "    'd1', 'd2', 'd3',\n",
    "    'b1', 'b2',\n",
    "    'g1', 'g2',\n",
    "    'm1', 'm2',\n",
    "    'bn1', 'bn2'\n",
    "])\n",
    "val = nltk.Valuation.fromstring(\"\"\"\n",
    "dog   => {d1, d2, d3}\n",
    "boy   => {b1, b2}\n",
    "girl  => {g1, g2}\n",
    "man   => {m1, m2}\n",
    "bone  => {bn1, bn2}\n",
    "bite  => {(d1, bn1)}\n",
    "give  => {(m1, bn1, d1)}\n",
    "\"\"\")\n",
    "\n",
    "g = nltk.Assignment(dom)\n",
    "m = nltk.Model(dom, val)\n",
    "\n",
    "for semrep in sents_reps:\n",
    "    print(m.evaluate(str(semrep), g))\n",
    "    display_latex(semrep)\n",
    "    display(Markdown('----'))"
   ]
  },
  {
   "cell_type": "markdown",
   "metadata": {},
   "source": [
    "6a. Change the sets of `bite` and `give` in the model, so two sentences in question 5 become true. **[4 marks]**"
   ]
  },
  {
   "cell_type": "code",
   "execution_count": null,
   "metadata": {},
   "outputs": [],
   "source": [
    "# answers here\n",
    "# copy from the model above then modify bite and give.\n"
   ]
  },
  {
   "cell_type": "markdown",
   "metadata": {},
   "source": [
    "6b. *(optional)* Write a mobification of `bite` and `give` which the alternative reading in 5a become true. (If you already have that in 6a write a model that the alternative reading in 5a is false but the original reading is true)   **[4 marks]**"
   ]
  },
  {
   "cell_type": "code",
   "execution_count": null,
   "metadata": {},
   "outputs": [],
   "source": [
    "# answers here\n",
    "\n"
   ]
  },
  {
   "cell_type": "markdown",
   "metadata": {},
   "source": [
    "6c. *(optional)* extend the world model with `chase`, repeat 6a and 6b for \"every dog chased a boy and a girl\". **[4 marks]**"
   ]
  },
  {
   "cell_type": "code",
   "execution_count": null,
   "metadata": {},
   "outputs": [],
   "source": [
    "# answers here\n",
    "\n"
   ]
  },
  {
   "cell_type": "markdown",
   "metadata": {},
   "source": [
    "## Submitting your answers\n",
    "\n",
    "There are **34 marks** and **10 optional marks** on this problem-set. In order to obtain a G you need at least **17 marks**. In order to obtain a VG you need at least **26 marks**.\n",
    "\n",
    "The lab is meant as an exploration and learning exercise. If you get stuck, please write your questions to the discussion topic for this lab. "
   ]
  },
  {
   "cell_type": "code",
   "execution_count": null,
   "metadata": {},
   "outputs": [],
   "source": []
  }
 ],
 "metadata": {
  "kernelspec": {
   "display_name": "Python 3",
   "language": "python",
   "name": "python3"
  },
  "language_info": {
   "codemirror_mode": {
    "name": "ipython",
    "version": 3
   },
   "file_extension": ".py",
   "mimetype": "text/x-python",
   "name": "python",
   "nbconvert_exporter": "python",
   "pygments_lexer": "ipython3",
   "version": "3.8.2"
  }
 },
 "nbformat": 4,
 "nbformat_minor": 1
}

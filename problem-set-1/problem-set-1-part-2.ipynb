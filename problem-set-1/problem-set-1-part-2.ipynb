{
 "cells": [
  {
   "cell_type": "markdown",
   "metadata": {},
   "source": [
    "# Problem Set 1 - Part 2: Logic and Lambda Calculus"
   ]
  },
  {
   "cell_type": "code",
   "execution_count": 1,
   "metadata": {},
   "outputs": [],
   "source": [
    "# This task needs NLTK and Jupyter Notebook (IPython package).\n",
    "import nltk\n",
    "from nltk.grammar import FeatureGrammar\n",
    "from utils import display_latex, display_translation, display_tree, display, Markdown"
   ]
  },
  {
   "cell_type": "markdown",
   "metadata": {},
   "source": [
    "## Lambda calculus"
   ]
  },
  {
   "cell_type": "markdown",
   "metadata": {},
   "source": [
    "### 1. Expression types in NLTK\n",
    "What would be the possible semantic types of each expression type in NLTK?"
   ]
  },
  {
   "cell_type": "markdown",
   "metadata": {},
   "source": [
    "You can translate logical and lambda expressions from string into one of the `nltk.sem.logic.Expression` types. Here is how:"
   ]
  },
  {
   "cell_type": "code",
   "execution_count": 2,
   "metadata": {},
   "outputs": [
    {
     "data": {
      "text/markdown": [
       "$x$ = `<IndividualVariableExpression x>`"
      ],
      "text/plain": [
       "<IPython.core.display.Markdown object>"
      ]
     },
     "metadata": {},
     "output_type": "display_data"
    },
    {
     "data": {
      "text/markdown": [
       "$P$ = `<FunctionVariableExpression P>`"
      ],
      "text/plain": [
       "<IPython.core.display.Markdown object>"
      ]
     },
     "metadata": {},
     "output_type": "display_data"
    },
    {
     "data": {
      "text/markdown": [
       "$rob$ = `<ConstantExpression rob>`"
      ],
      "text/plain": [
       "<IPython.core.display.Markdown object>"
      ]
     },
     "metadata": {},
     "output_type": "display_data"
    },
    {
     "data": {
      "text/markdown": [
       "$\\lambda\\ x.P(x)$ = `<LambdaExpression \\x.P(x)>`"
      ],
      "text/plain": [
       "<IPython.core.display.Markdown object>"
      ]
     },
     "metadata": {},
     "output_type": "display_data"
    },
    {
     "data": {
      "text/markdown": [
       "$\\lambda\\ x.homosapien(x)$ = `<LambdaExpression \\x.homosapien(x)>`"
      ],
      "text/plain": [
       "<IPython.core.display.Markdown object>"
      ]
     },
     "metadata": {},
     "output_type": "display_data"
    },
    {
     "data": {
      "text/markdown": [
       "$P(x)$ = `<ApplicationExpression P(x)>`"
      ],
      "text/plain": [
       "<IPython.core.display.Markdown object>"
      ]
     },
     "metadata": {},
     "output_type": "display_data"
    },
    {
     "data": {
      "text/markdown": [
       "$P(rob)$ = `<ApplicationExpression P(rob)>`"
      ],
      "text/plain": [
       "<IPython.core.display.Markdown object>"
      ]
     },
     "metadata": {},
     "output_type": "display_data"
    },
    {
     "data": {
      "text/markdown": [
       "$homosapien(rob)$ = `<ApplicationExpression homosapien(rob)>`"
      ],
      "text/plain": [
       "<IPython.core.display.Markdown object>"
      ]
     },
     "metadata": {},
     "output_type": "display_data"
    },
    {
     "data": {
      "text/markdown": [
       "$(\\lambda\\ y\\ x.love(x,y))(rob)$ = `<ApplicationExpression (\\y x.love(x,y))(rob)>`"
      ],
      "text/plain": [
       "<IPython.core.display.Markdown object>"
      ]
     },
     "metadata": {},
     "output_type": "display_data"
    },
    {
     "data": {
      "text/markdown": [
       "$(homosapien(rob)\\ \\land\\ run(rob))$ = `<AndExpression (homosapien(rob) & run(rob))>`"
      ],
      "text/plain": [
       "<IPython.core.display.Markdown object>"
      ]
     },
     "metadata": {},
     "output_type": "display_data"
    },
    {
     "data": {
      "text/markdown": [
       "$\\exists\\ x.(homosapien(x)\\ \\land\\ run(x))$ = `<ExistsExpression exists x.(homosapien(x) & run(x))>`"
      ],
      "text/plain": [
       "<IPython.core.display.Markdown object>"
      ]
     },
     "metadata": {},
     "output_type": "display_data"
    },
    {
     "data": {
      "text/markdown": [
       "$\\forall\\ x.(homosapien(x)\\ \\land\\ run(x))$ = `<AllExpression all x.(homosapien(x) & run(x))>`"
      ],
      "text/plain": [
       "<IPython.core.display.Markdown object>"
      ]
     },
     "metadata": {},
     "output_type": "display_data"
    },
    {
     "data": {
      "text/markdown": [
       "\n",
       "**Note**: *Python interprets `\\` as a marker for special characters.\n",
       "To prevent this, we use `r` in `r\"strings\"` in order to force the raw interpretation of strings.*\n"
      ],
      "text/plain": [
       "<IPython.core.display.Markdown object>"
      ]
     },
     "metadata": {},
     "output_type": "display_data"
    }
   ],
   "source": [
    "read_expr = nltk.sem.Expression.fromstring\n",
    "\n",
    "# different representations have different valid types:\n",
    "expressions = [\n",
    "    read_expr(r\"x\"),\n",
    "    read_expr(r\"P\"),\n",
    "    read_expr(r\"rob\"),\n",
    "    read_expr(r\"\\x.P(x)\"),\n",
    "    read_expr(r\"\\x.homosapien(x)\"),\n",
    "    read_expr(r\"P(x)\"),\n",
    "    read_expr(r\"P(rob)\"),\n",
    "    read_expr(r\"homosapien(rob)\"),\n",
    "    read_expr(r\"(\\y \\x.love(x, y))(rob)\"),\n",
    "    read_expr(r\"homosapien(rob) & run(rob)\"),\n",
    "    read_expr(r\"exists x.(homosapien(x) & run(x))\"),\n",
    "    read_expr(r\"all x.(homosapien(x) & run(x))\"),\n",
    "]\n",
    "\n",
    "for expr in expressions:\n",
    "    display_latex(expr, with_types=True)\n",
    "\n",
    "display(Markdown(r\"\"\"\n",
    "**Note**: *Python interprets `\\` as a marker for special characters.\n",
    "To prevent this, we use `r` in `r\"strings\"` in order to force the raw interpretation of strings.*\n",
    "\"\"\"))"
   ]
  },
  {
   "cell_type": "markdown",
   "metadata": {},
   "source": [
    "Some well-formed expressions do not have a valid type in a model with basic *e-type* and *t-type*.\n",
    "\n",
    "1a. Explain the problem with expression below **[2 mark]**:"
   ]
  },
  {
   "cell_type": "code",
   "execution_count": 3,
   "metadata": {},
   "outputs": [
    {
     "data": {
      "text/markdown": [
       "$(rob\\ \\land\\ marry)$ = `<AndExpression (rob & marry)>`"
      ],
      "text/plain": [
       "<IPython.core.display.Markdown object>"
      ]
     },
     "metadata": {},
     "output_type": "display_data"
    }
   ],
   "source": [
    "# The following is an *AndExpression*, where semantically *rob* and *marry* are entities (e-types).\n",
    "display_latex(read_expr(r\"rob & marry\"), with_types=True)"
   ]
  },
  {
   "cell_type": "markdown",
   "metadata": {},
   "source": [
    "*Write your answers here*\n",
    "\n",
    "..."
   ]
  },
  {
   "cell_type": "markdown",
   "metadata": {},
   "source": [
    "1b. Is there any approprate translation of types from NLTK expressions to logical types with basic `e-type` and `t-type`? Explain based on the examples above. **[4 marks]** "
   ]
  },
  {
   "cell_type": "markdown",
   "metadata": {},
   "source": [
    "\n",
    "For example:\n",
    "\n",
    "- `IndividualVariableExpression` and `FunctionVariableExpression` can be any type. There is no specific type of value for it.\n",
    "- `AndExpression` and `OrExpression` can be translated to t-type. (Because 1a)\n",
    "\n",
    "Write your answers in front of these:\n",
    "\n",
    "- `LambdaExpression`  ...\n",
    "- `ConstantExpression`  ...\n",
    "- `ExistsExpression` and `AllExpression` ...\n",
    "- `ApplicationExpression`  ...\n"
   ]
  },
  {
   "cell_type": "markdown",
   "metadata": {},
   "source": [
    "### 2. Translate verb phrases\n",
    "\n",
    "Translate the verb phrases using $\\lambda$ abstracts and verify the resulting formulae with `Expression.fromstring`.\n",
    "\n",
    "In this task, you need to translate verb phrases similar to these example:"
   ]
  },
  {
   "cell_type": "code",
   "execution_count": 4,
   "metadata": {},
   "outputs": [
    {
     "data": {
      "text/markdown": [
       "\"read by Rob\": $\\lambda\\ x.read(rob,x)$"
      ],
      "text/plain": [
       "<IPython.core.display.Markdown object>"
      ]
     },
     "metadata": {},
     "output_type": "display_data"
    },
    {
     "data": {
      "text/markdown": [
       "\"read a book\": $\\lambda\\ x.\\exists\\ y.(book(y)\\ \\land\\ read(x,y))$"
      ],
      "text/plain": [
       "<IPython.core.display.Markdown object>"
      ]
     },
     "metadata": {},
     "output_type": "display_data"
    }
   ],
   "source": [
    "translations = {\n",
    "    \"read by Rob\": read_expr(r\"\\x.read(rob, x)\"),\n",
    "    \"read a book\": read_expr(r\"\\x. exists y. (book(y) & read(x, y))\"),\n",
    "}\n",
    "\n",
    "for text, expr in translations.items():\n",
    "    display_translation(text, expr)"
   ]
  },
  {
   "cell_type": "markdown",
   "metadata": {},
   "source": [
    "Replace `xxx` with valid representations in dictionary of expressions **[4 marks]**:"
   ]
  },
  {
   "cell_type": "code",
   "execution_count": 5,
   "metadata": {},
   "outputs": [
    {
     "data": {
      "text/markdown": [
       "\"be admired by no-one\": `<ConstantExpression xxx>`"
      ],
      "text/plain": [
       "<IPython.core.display.Markdown object>"
      ]
     },
     "metadata": {},
     "output_type": "display_data"
    },
    {
     "data": {
      "text/markdown": [
       "\"catch a fish and eat it\": `<ConstantExpression xxx>`"
      ],
      "text/plain": [
       "<IPython.core.display.Markdown object>"
      ]
     },
     "metadata": {},
     "output_type": "display_data"
    },
    {
     "data": {
      "text/markdown": [
       "\"read a book or watch a film\": `<ConstantExpression xxx>`"
      ],
      "text/plain": [
       "<IPython.core.display.Markdown object>"
      ]
     },
     "metadata": {},
     "output_type": "display_data"
    },
    {
     "data": {
      "text/markdown": [
       "\"give every boy a dime\": `<ConstantExpression xxx>`"
      ],
      "text/plain": [
       "<IPython.core.display.Markdown object>"
      ]
     },
     "metadata": {},
     "output_type": "display_data"
    }
   ],
   "source": [
    "# fix the following translations:\n",
    "translations = {\n",
    "    \"be admired by no-one\":        read_expr(r\"xxx\"),\n",
    "    \"catch a fish and eat it\":     read_expr(r\"xxx\"),\n",
    "    \"read a book or watch a film\": read_expr(r\"xxx\"),\n",
    "    \"give every boy a dime\":       read_expr(r\"xxx\")\n",
    "}\n",
    "\n",
    "for text, expr in translations.items():\n",
    "    display_translation(text, expr, to_latex=False)"
   ]
  },
  {
   "cell_type": "markdown",
   "metadata": {},
   "source": [
    "### 3. Function application and $\\beta$-reduction\n",
    "In the following examples some code has been deleted and replaced with `<????>`. What has been deleted? Verify that your answer is correct. **[4 marks]**"
   ]
  },
  {
   "cell_type": "code",
   "execution_count": 6,
   "metadata": {},
   "outputs": [
    {
     "data": {
      "text/markdown": [
       "$????(pip)$"
      ],
      "text/plain": [
       "<IPython.core.display.Markdown object>"
      ]
     },
     "metadata": {},
     "output_type": "display_data"
    },
    {
     "data": {
      "text/markdown": [
       "$like(pip,rob)$"
      ],
      "text/plain": [
       "<IPython.core.display.Markdown object>"
      ]
     },
     "metadata": {},
     "output_type": "display_data"
    },
    {
     "data": {
      "text/markdown": [
       "$????(\\lambda\\ x.play(x,scherzo))$"
      ],
      "text/plain": [
       "<IPython.core.display.Markdown object>"
      ]
     },
     "metadata": {},
     "output_type": "display_data"
    },
    {
     "data": {
      "text/markdown": [
       "$play(pip,scherzo)$"
      ],
      "text/plain": [
       "<IPython.core.display.Markdown object>"
      ]
     },
     "metadata": {},
     "output_type": "display_data"
    },
    {
     "data": {
      "text/markdown": [
       "$????(\\lambda\\ x.play(x,etude))$"
      ],
      "text/plain": [
       "<IPython.core.display.Markdown object>"
      ]
     },
     "metadata": {},
     "output_type": "display_data"
    },
    {
     "data": {
      "text/markdown": [
       "$\\exists\\ x.(woman(x)\\ \\land\\ play(x,etude))$"
      ],
      "text/plain": [
       "<IPython.core.display.Markdown object>"
      ]
     },
     "metadata": {},
     "output_type": "display_data"
    },
    {
     "data": {
      "text/markdown": [
       "$????(\\lambda\\ P.\\forall\\ x.(musician(x)\\ \\to\\ P(x)))$"
      ],
      "text/plain": [
       "<IPython.core.display.Markdown object>"
      ]
     },
     "metadata": {},
     "output_type": "display_data"
    },
    {
     "data": {
      "text/markdown": [
       "$\\lambda\\ x.\\forall\\ z_{2}.(musician(z_{2})\\ \\to\\ like(x,z_{2}))$"
      ],
      "text/plain": [
       "<IPython.core.display.Markdown object>"
      ]
     },
     "metadata": {},
     "output_type": "display_data"
    }
   ],
   "source": [
    "e1 = read_expr(r'????')\n",
    "e2 = read_expr(r'pip')\n",
    "e3 = nltk.sem.ApplicationExpression(e1,e2) \n",
    "display_latex(e3.simplify())\n",
    "# with reuslt like(pip,rob).\n",
    "display_latex(read_expr(r\"like(pip,rob)\"))\n",
    "\n",
    "e1 = read_expr(r'????')\n",
    "e2 = read_expr(r'\\x.play(x,scherzo)') \n",
    "e3 = nltk.sem.ApplicationExpression(e1,e2)\n",
    "display_latex(e3.simplify())\n",
    "# with result play(pip,scherzo).\n",
    "display_latex(read_expr(r\"play(pip,scherzo)\"))\n",
    "\n",
    "e1 = read_expr(r'????')\n",
    "e2 = read_expr(r'\\x.play(x,etude)') \n",
    "e3 = nltk.sem.ApplicationExpression(e1,e2) \n",
    "display_latex(e3.simplify())\n",
    "# with result exists x.(woman(x) & play(x,etude)).\n",
    "display_latex(read_expr(r\"exists x.(woman(x) & play(x,etude))\"))\n",
    "\n",
    "e1 = read_expr(r'????')\n",
    "e2 = read_expr(r'\\P.all x. (musician(x) -> P(x))') \n",
    "e3 = nltk.sem.ApplicationExpression(e1,e2) \n",
    "display_latex(e3.simplify())\n",
    "# with result \\x.all z2.(musician(z2) -> like(x,z2)).\n",
    "display_latex(read_expr(r\"\\x.all z2.(musician(z2) -> like(x,z2))\"))"
   ]
  },
  {
   "cell_type": "markdown",
   "metadata": {},
   "source": [
    "### 4. Extend FCFG Grammar\n",
    "Extend the grammar simple_sem.fcfg that comes with NLTK `(~/nltk_data/grammars/book_grammars/)` so that it will cover the following sentences. The grammar is included in the code below as a string.\n",
    "\n",
    "- no man gives a bone to a dog **[4 marks]**\n",
    "- a boy and a girl chased every dog **[2 marks]**\n",
    "- every dog chased a boy and a girl **[2 marks]**\n",
    "- a brown cat chases a white dog **[4 marks]**\n",
    "\n",
    "The last example includes adjectives. Several different kinds of adjectives are discussed in the literature. In this example we have an intersective adjective. The denotiation we might want for brown cat is a set of individuals having a brown property and cat property."
   ]
  },
  {
   "cell_type": "code",
   "execution_count": 7,
   "metadata": {},
   "outputs": [],
   "source": [
    "fcfg_string_orginal = r\"\"\"\n",
    "% start S\n",
    "############################\n",
    "# Grammar Rules\n",
    "#############################\n",
    "\n",
    "S[SEM = <?subj(?vp)>] -> NP[NUM=?n,SEM=?subj] VP[NUM=?n,SEM=?vp]\n",
    "\n",
    "NP[NUM=?n,SEM=<?det(?nom)> ] -> Det[NUM=?n,SEM=?det]  Nom[NUM=?n,SEM=?nom]\n",
    "NP[LOC=?l,NUM=?n,SEM=?np] -> PropN[LOC=?l,NUM=?n,SEM=?np]\n",
    "\n",
    "Nom[NUM=?n,SEM=?nom] -> N[NUM=?n,SEM=?nom]\n",
    "\n",
    "VP[NUM=?n,SEM=?v] -> IV[NUM=?n,SEM=?v]\n",
    "VP[NUM=?n,SEM=<?v(?obj)>] -> TV[NUM=?n,SEM=?v] NP[SEM=?obj]\n",
    "VP[NUM=?n,SEM=<?v(?obj,?pp)>] -> DTV[NUM=?n,SEM=?v] NP[SEM=?obj] PP[+TO,SEM=?pp]\n",
    "\n",
    "PP[+TO, SEM=?np] -> P[+TO] NP[SEM=?np]\n",
    "\n",
    "#############################\n",
    "# Lexical Rules\n",
    "#############################\n",
    "\n",
    "PropN[-LOC,NUM=sg,SEM=<\\P.P(angus)>] -> 'Angus'\n",
    "PropN[-LOC,NUM=sg,SEM=<\\P.P(cyril)>] -> 'Cyril'\n",
    "PropN[-LOC,NUM=sg,SEM=<\\P.P(irene)>] -> 'Irene'\n",
    " \n",
    "Det[NUM=sg,SEM=<\\P Q.all x.(P(x) -> Q(x))>] -> 'every'\n",
    "Det[NUM=pl,SEM=<\\P Q.all x.(P(x) -> Q(x))>] -> 'all'\n",
    "Det[SEM=<\\P Q.exists x.(P(x) & Q(x))>] -> 'some'\n",
    "Det[NUM=sg,SEM=<\\P Q.exists x.(P(x) & Q(x))>] -> 'a'\n",
    "Det[NUM=sg,SEM=<\\P Q.exists x.(P(x) & Q(x))>] -> 'an'\n",
    "\n",
    "N[NUM=sg,SEM=<\\x.man(x)>] -> 'man'\n",
    "N[NUM=sg,SEM=<\\x.girl(x)>] -> 'girl'\n",
    "N[NUM=sg,SEM=<\\x.boy(x)>] -> 'boy'\n",
    "N[NUM=sg,SEM=<\\x.bone(x)>] -> 'bone'\n",
    "N[NUM=sg,SEM=<\\x.ankle(x)>] -> 'ankle'\n",
    "N[NUM=sg,SEM=<\\x.dog(x)>] -> 'dog'\n",
    "N[NUM=pl,SEM=<\\x.dog(x)>] -> 'dogs'\n",
    "\n",
    "IV[NUM=sg,SEM=<\\x.bark(x)>,TNS=pres] -> 'barks'\n",
    "IV[NUM=pl,SEM=<\\x.bark(x)>,TNS=pres] -> 'bark'\n",
    "IV[NUM=sg,SEM=<\\x.walk(x)>,TNS=pres] -> 'walks'\n",
    "IV[NUM=pl,SEM=<\\x.walk(x)>,TNS=pres] -> 'walk'\n",
    "TV[NUM=sg,SEM=<\\X x.X(\\ y.chase(x,y))>,TNS=pres] -> 'chases'\n",
    "TV[NUM=pl,SEM=<\\X x.X(\\ y.chase(x,y))>,TNS=pres] -> 'chase'\n",
    "TV[NUM=sg,SEM=<\\X x.X(\\ y.see(x,y))>,TNS=pres] -> 'sees'\n",
    "TV[NUM=pl,SEM=<\\X x.X(\\ y.see(x,y))>,TNS=pres] -> 'see'\n",
    "TV[NUM=sg,SEM=<\\X x.X(\\ y.bite(x,y))>,TNS=pres] -> 'bites'\n",
    "TV[NUM=pl,SEM=<\\X x.X(\\ y.bite(x,y))>,TNS=pres] -> 'bite'\n",
    "DTV[NUM=sg,SEM=<\\Y X x.X(\\z.Y(\\y.give(x,y,z)))>,TNS=pres] -> 'gives'\n",
    "DTV[NUM=pl,SEM=<\\Y X x.X(\\z.Y(\\y.give(x,y,z)))>,TNS=pres] -> 'give'\n",
    "\n",
    "P[+to] -> 'to'\n",
    "\"\"\""
   ]
  },
  {
   "cell_type": "code",
   "execution_count": 8,
   "metadata": {},
   "outputs": [],
   "source": [
    "fcfg_string = fcfg_string_orginal + r\"\"\"\n",
    "## Your answers here\n",
    "# Det[???] -> ???\n",
    "# TV[???] -> ???\n",
    "# TV[???] -> ???\n",
    "# CONJ -> ???\n",
    "# NP[???] -> NP[???] CONJ NP[???]\n",
    "# N[???] -> ???\n",
    "# ADJ[???] -> ???\n",
    "# NP[???] -> Det[???] ADJ[???] Nom[???]\n",
    "\"\"\"\n",
    "\n",
    "# Load `fcfg_string` as a feature grammar:\n",
    "syntax = FeatureGrammar.fromstring(fcfg_string)"
   ]
  },
  {
   "cell_type": "markdown",
   "metadata": {},
   "source": [
    "Run the code below without errors:"
   ]
  },
  {
   "cell_type": "code",
   "execution_count": null,
   "metadata": {},
   "outputs": [],
   "source": [
    "# remove sentences if you couldn't find answer for them\n",
    "sentences = [\n",
    "    'no man gives a bone to a dog',\n",
    "    'a boy and a girl chased every dog',\n",
    "    'every dog chased a boy and a girl',\n",
    "    'a brown cat chases a white dog',\n",
    "]\n",
    "for results in nltk.interpret_sents(sentences, syntax):\n",
    "    for (synrep, semrep) in results:\n",
    "        display(Markdown('----'))\n",
    "        display_latex(semrep) # prints the SEM feature of a tree\n",
    "        display_tree(synrep) # show the parse tree\n"
   ]
  },
  {
   "cell_type": "markdown",
   "metadata": {},
   "source": [
    "If you are working with iPython which is also running behind Jupyter notebooks and you are changing grammars and want to rerun a new version without restarting you may find `nltk.data.clear_cache()` useful."
   ]
  },
  {
   "cell_type": "markdown",
   "metadata": {},
   "source": [
    "### 5. Ambiguity in quantifiers\n",
    "\n",
    "Explain ambiguity of these sentences. \n",
    "\n",
    "Use parse the following sentences:\n",
    "\n",
    "- every dog bites a bone\n",
    "- a man gives a bone to every dog\n",
    "- every dog chased a boy and a girl *(optional)*"
   ]
  },
  {
   "cell_type": "code",
   "execution_count": 10,
   "metadata": {},
   "outputs": [
    {
     "data": {
      "text/markdown": [
       "----"
      ],
      "text/plain": [
       "<IPython.core.display.Markdown object>"
      ]
     },
     "metadata": {},
     "output_type": "display_data"
    },
    {
     "data": {
      "text/markdown": [
       "$\\forall\\ x.(dog(x)\\ \\to\\ \\exists\\ z_{1}.(bone(z_{1})\\ \\land\\ bite(x,z_{1})))$"
      ],
      "text/plain": [
       "<IPython.core.display.Markdown object>"
      ]
     },
     "metadata": {},
     "output_type": "display_data"
    },
    {
     "data": {
      "text/markdown": [
       "<img src=\"data:image/png;base64,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\">"
      ],
      "text/plain": [
       "<IPython.core.display.Markdown object>"
      ]
     },
     "metadata": {},
     "output_type": "display_data"
    },
    {
     "data": {
      "text/markdown": [
       "----"
      ],
      "text/plain": [
       "<IPython.core.display.Markdown object>"
      ]
     },
     "metadata": {},
     "output_type": "display_data"
    },
    {
     "data": {
      "text/markdown": [
       "$\\exists\\ x.(man(x)\\ \\land\\ \\forall\\ z_{3}.(dog(z_{3})\\ \\to\\ \\exists\\ z_{2}.(bone(z_{2})\\ \\land\\ give(x,z_{2},z_{3}))))$"
      ],
      "text/plain": [
       "<IPython.core.display.Markdown object>"
      ]
     },
     "metadata": {},
     "output_type": "display_data"
    },
    {
     "data": {
      "text/markdown": [
       "<img src=\"data:image/png;base64,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\">"
      ],
      "text/plain": [
       "<IPython.core.display.Markdown object>"
      ]
     },
     "metadata": {},
     "output_type": "display_data"
    }
   ],
   "source": [
    "syntax = FeatureGrammar.fromstring(fcfg_string_orginal)\n",
    "sentences = [\n",
    "    'all dogs bite a bone',\n",
    "    'a man gives a bone to every dog',\n",
    "    #'every dog chased a boy and a girl',\n",
    "]\n",
    "sents_reps = []\n",
    "for results in nltk.interpret_sents(sentences, syntax):\n",
    "    for (synrep, semrep) in results:\n",
    "        display(Markdown('----'))\n",
    "        display_latex(semrep) # prints the SEM feature of a tree\n",
    "        display_tree(synrep) # show the parse tree\n",
    "        sents_reps.append(semrep)"
   ]
  },
  {
   "cell_type": "markdown",
   "metadata": {},
   "source": [
    "5a. Write at least one alternative logical representation for each sentence. **[2+1 marks]**"
   ]
  },
  {
   "cell_type": "code",
   "execution_count": 11,
   "metadata": {},
   "outputs": [
    {
     "data": {
      "text/markdown": [
       "$???$"
      ],
      "text/plain": [
       "<IPython.core.display.Markdown object>"
      ]
     },
     "metadata": {},
     "output_type": "display_data"
    },
    {
     "data": {
      "text/markdown": [
       "$???$"
      ],
      "text/plain": [
       "<IPython.core.display.Markdown object>"
      ]
     },
     "metadata": {},
     "output_type": "display_data"
    },
    {
     "data": {
      "text/markdown": [
       "$???$"
      ],
      "text/plain": [
       "<IPython.core.display.Markdown object>"
      ]
     },
     "metadata": {},
     "output_type": "display_data"
    }
   ],
   "source": [
    "# your answers here\n",
    "\n",
    "# all dogs bite a bone\n",
    "semrep = read_expr(r\"???\")\n",
    "display_latex(semrep)\n",
    "\n",
    "# a man gives a bone to every dog\n",
    "semrep = read_expr(r\"???\")\n",
    "display_latex(semrep)\n",
    "\n",
    "# every dog chased a boy and a girl\n",
    "semrep = read_expr(r\"???\")\n",
    "display_latex(semrep)"
   ]
  },
  {
   "cell_type": "markdown",
   "metadata": {},
   "source": [
    "5b. Are they semantic or syntactic ambiguities? **[2+1 marks]**"
   ]
  },
  {
   "cell_type": "code",
   "execution_count": 12,
   "metadata": {},
   "outputs": [],
   "source": [
    "# your answers here\n"
   ]
  },
  {
   "cell_type": "markdown",
   "metadata": {},
   "source": [
    "### 6. Model and valuation\n",
    "\n",
    "Find a model for statements."
   ]
  },
  {
   "cell_type": "markdown",
   "metadata": {},
   "source": [
    "Original readings of two sentences in question 5 are false in the model below:"
   ]
  },
  {
   "cell_type": "code",
   "execution_count": 13,
   "metadata": {},
   "outputs": [
    {
     "name": "stdout",
     "output_type": "stream",
     "text": [
      "False\n"
     ]
    },
    {
     "data": {
      "text/markdown": [
       "$\\forall\\ x.(dog(x)\\ \\to\\ \\exists\\ z_{1}.(bone(z_{1})\\ \\land\\ bite(x,z_{1})))$"
      ],
      "text/plain": [
       "<IPython.core.display.Markdown object>"
      ]
     },
     "metadata": {},
     "output_type": "display_data"
    },
    {
     "data": {
      "text/markdown": [
       "----"
      ],
      "text/plain": [
       "<IPython.core.display.Markdown object>"
      ]
     },
     "metadata": {},
     "output_type": "display_data"
    },
    {
     "name": "stdout",
     "output_type": "stream",
     "text": [
      "False\n"
     ]
    },
    {
     "data": {
      "text/markdown": [
       "$\\exists\\ x.(man(x)\\ \\land\\ \\forall\\ z_{3}.(dog(z_{3})\\ \\to\\ \\exists\\ z_{2}.(bone(z_{2})\\ \\land\\ give(x,z_{2},z_{3}))))$"
      ],
      "text/plain": [
       "<IPython.core.display.Markdown object>"
      ]
     },
     "metadata": {},
     "output_type": "display_data"
    },
    {
     "data": {
      "text/markdown": [
       "----"
      ],
      "text/plain": [
       "<IPython.core.display.Markdown object>"
      ]
     },
     "metadata": {},
     "output_type": "display_data"
    }
   ],
   "source": [
    "dom = set([\n",
    "    'd1', 'd2', 'd3',\n",
    "    'b1', 'b2',\n",
    "    'g1', 'g2',\n",
    "    'm1', 'm2',\n",
    "    'bn1', 'bn2'\n",
    "])\n",
    "val = nltk.Valuation.fromstring(\"\"\"\n",
    "dog   => {d1, d2, d3}\n",
    "boy   => {b1, b2}\n",
    "girl  => {g1, g2}\n",
    "man   => {m1, m2}\n",
    "bone  => {bn1, bn2}\n",
    "bite  => {(d1, bn1)}\n",
    "give  => {(m1, bn1, d1)}\n",
    "\"\"\")\n",
    "\n",
    "g = nltk.Assignment(dom)\n",
    "m = nltk.Model(dom, val)\n",
    "\n",
    "for semrep in sents_reps:\n",
    "    print(m.evaluate(str(semrep), g))\n",
    "    display_latex(semrep)\n",
    "    display(Markdown('----'))"
   ]
  },
  {
   "cell_type": "markdown",
   "metadata": {},
   "source": [
    "6a. Change the sets of `bite` and `give` in the model, so two sentences in question 5 become true. **[4 marks]**"
   ]
  },
  {
   "cell_type": "code",
   "execution_count": null,
   "metadata": {},
   "outputs": [],
   "source": [
    "# answers here\n",
    "# copy from the model above then modify bite and give.\n"
   ]
  },
  {
   "cell_type": "markdown",
   "metadata": {},
   "source": [
    "6b. *(optional)* Write a mobification of `bite` and `give` which the alternative reading in 5a become true. (If you already have that in 6a write a model that the alternative reading in 5a is false but the original reading is true)   **[4 marks]**"
   ]
  },
  {
   "cell_type": "code",
   "execution_count": null,
   "metadata": {},
   "outputs": [],
   "source": [
    "# answers here\n",
    "\n"
   ]
  },
  {
   "cell_type": "markdown",
   "metadata": {},
   "source": [
    "6c. *(optional)* extend the world model with `chase`, repeat 6a and 6b for \"every dog chased a boy and a girl\". **[4 marks]**"
   ]
  },
  {
   "cell_type": "code",
   "execution_count": null,
   "metadata": {},
   "outputs": [],
   "source": [
    "# answers here\n",
    "\n"
   ]
  },
  {
   "cell_type": "markdown",
   "metadata": {},
   "source": [
    "## Submitting your answers\n",
    "\n",
    "There are **34 marks** and **10 optional marks** on this problem-set. In order to obtain a G you need at least **17 marks**. In order to obtain a VG you need at least **26 marks**.\n",
    "\n",
    "The lab is meant as an exploration and learning exercise. If you get stuck, please write your questions to the discussion topic for this lab. "
   ]
  },
  {
   "cell_type": "code",
   "execution_count": null,
   "metadata": {},
   "outputs": [],
   "source": []
  }
 ],
 "metadata": {
  "kernelspec": {
   "display_name": "Python 3",
   "language": "python",
   "name": "python3"
  },
  "language_info": {
   "codemirror_mode": {
    "name": "ipython",
    "version": 3
   },
   "file_extension": ".py",
   "mimetype": "text/x-python",
   "name": "python",
   "nbconvert_exporter": "python",
   "pygments_lexer": "ipython3",
   "version": "3.7.6"
  }
 },
 "nbformat": 4,
 "nbformat_minor": 1
}

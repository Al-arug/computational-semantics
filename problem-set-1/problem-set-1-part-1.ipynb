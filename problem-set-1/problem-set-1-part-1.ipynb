{
 "cells": [
  {
   "cell_type": "markdown",
   "metadata": {},
   "source": [
    "# Problem Set 1: Logic and lambda calculus"
   ]
  },
  {
   "cell_type": "markdown",
   "metadata": {},
   "source": [
    "The lab is an exploration and learning exercise to be done in a group and also in discussion with the teachers and other students.\n",
    "\n",
    "We suggest that you work as follows. First, have a look at the questions in this notebook on your own and try to write your own solutions in your own version of the notebook. Then, arrange with your fellow group members to meet online in the Zoom classroom and consolidate solutions in a separate group notebook that you will then submit together. You may also want to use a discussion forum and other tools that are created for your group on Canvas to communicate with each other. Use Github to commit your individual proposed solutions within the group and also for the final submittion to the teachers.\n",
    "\n",
    "If you get stuck (both individually or a group), write your questions to the general Canvas discussion topic for Lab 1 rather than sending us individual emails. This is to ensure that if we provide additional information about the assignments, the information will be available for everyone. If you know the answer, please feel free to answer but don't provide a direct solution. \n",
    "\n",
    "Write all your answers and the code in the appropriate boxes below."
   ]
  },
  {
   "cell_type": "markdown",
   "metadata": {},
   "source": [
    "## Part 1: Translating English to logic and evaluating logic in a model"
   ]
  },
  {
   "cell_type": "code",
   "execution_count": 1,
   "metadata": {},
   "outputs": [],
   "source": [
    "import nltk\n",
    "read_expr = nltk.sem.Expression.fromstring"
   ]
  },
  {
   "cell_type": "markdown",
   "metadata": {},
   "source": [
    "'1.' Translate the following sentences into propositional logic and verify that they parse with Expression.fromstring(). Provide a key which shows how the propositional variables in your translation correspond to expressions of English. Briefly discuss any difficulties you encounter. (By difficulties we mean cases where the semantics of English expressions cannot be expressed to the same degree by the semantics of your logic representations, i.e. they do not mean the same). [4 + 1 marks]"
   ]
  },
  {
   "cell_type": "code",
   "execution_count": null,
   "metadata": {},
   "outputs": [],
   "source": [
    "sentences = [\n",
    "    # If Alex plays the piano, she is smart.\n",
    "    read_expr(''),\n",
    "    # Alex is both smart and musical.\n",
    "    read_expr(''),    \n",
    "    # If Alex is not smart, Lydia is not happy.\n",
    "    read_expr(''),\n",
    "    # If Alex or George plays the piano, they are musical.\n",
    "    read_expr(''),\n",
    "    # George plays the piano.\n",
    "    read_expr('')]\n",
    "\n",
    "for sentence in sentences:\n",
    "    print(sentence)"
   ]
  },
  {
   "cell_type": "markdown",
   "metadata": {},
   "source": [
    "*Difficulties encountered:*"
   ]
  },
  {
   "cell_type": "markdown",
   "metadata": {},
   "source": [
    "'2.' Imagine that we observe a world where (i) Alex does not play the piano, (ii) Alex and Lydia are smart and musical, (iii) George is not musical, (iv) Lydia is happy, (viii) George plays the piano. Translate this informal description of the world into a model by appropriately defining an evaluation function and evaluate the formulae from Question 1 in this model. Briefly comment the answers you get. [4 + 1 marks]."
   ]
  },
  {
   "cell_type": "code",
   "execution_count": null,
   "metadata": {},
   "outputs": [],
   "source": []
  },
  {
   "cell_type": "markdown",
   "metadata": {},
   "source": [
    "*Comments:*"
   ]
  },
  {
   "cell_type": "markdown",
   "metadata": {},
   "source": [
    "'3.' Translate the following sentences into predicate-argument formulae of First Order Logic and verify that they parse with Expression.fromstring(). Briefly discuss any difficulties you encounter. [4 + 1 marks]"
   ]
  },
  {
   "cell_type": "code",
   "execution_count": null,
   "metadata": {},
   "outputs": [],
   "source": [
    "sentences = [\n",
    "    # Lydia likes George but Lydia doesn't like Alex\n",
    "    read_expr(''),\n",
    "    # Lydia likes herself and so does George\n",
    "    read_expr(''),    \n",
    "    # Charlie is an English pianist who plays a sonata\n",
    "    read_expr(''),\n",
    "    # Lydia and George admire each other\n",
    "    read_expr('')]\n",
    "\n",
    "for sentence in sentences:\n",
    "    print(sentence)"
   ]
  },
  {
   "cell_type": "markdown",
   "metadata": {},
   "source": [
    "*Difficulties encountered:*"
   ]
  },
  {
   "cell_type": "markdown",
   "metadata": {},
   "source": [
    "'4. Translate the following sentences into quantified formulas of First Order Logic and verify that they parse with Expression.fromstring(). Briefly discuss any difficulties you encounter. [4 + 1 marks]"
   ]
  },
  {
   "cell_type": "code",
   "execution_count": null,
   "metadata": {},
   "outputs": [],
   "source": [
    "sentences = [\n",
    "    # Charlie knows a woman who likes George\n",
    "    read_expr(''),\n",
    "    # George admires everybody and Lydia admires nobody\n",
    "    read_expr(''),    \n",
    "    # Nobody admires everybody\n",
    "    read_expr(''),\n",
    "    # Exactly one musician plays everything Alex wrote\n",
    "    read_expr('')]\n",
    "\n",
    "for sentence in sentences:\n",
    "    print(sentence)"
   ]
  },
  {
   "cell_type": "markdown",
   "metadata": {},
   "source": [
    "*Difficulties encountered:*"
   ]
  },
  {
   "cell_type": "markdown",
   "metadata": {},
   "source": [
    "'5.' We observe a world with entities Lydia, George, Alex, Charlie and Bertie, sonata, etude, prelude, waltz, scherzo.\n",
    "\n",
    "1. Lydia likes Lydia, George, Alex and Charlie. George likes Lydia, Bertie and George. Alex likes Alex. Charlie likes Lydia, George, Alex, Charlie and Bertie. Bertie likes Alex.\n",
    "2. Lydia, George, Alex, Charlie and Bertie are English.\n",
    "3. Charlie and Bertie are pianists.\n",
    "4. Charlie plays a sonata, an etude and a waltz. Bertie plays a waltz and a scherzo. Lydia plays an etude, a prelude and a waltz.\n",
    "5. Lydia admires Lydia, Charlie and Bertie. George admires Lydia, George, Alex, Charlie and Bertie. Alex admires Lydia, Alex and Bertie. Charlie admires George and Bertie. Bertie admires Lydia, George, Alex, Charlie and Bertie.\n",
    "6. Lydia knows Lydia, George, Alex, Charlie and Bertie. George knows Lydia, George and Bertie. Alex knows Lydia, Alex and Bertie. Charlie knows George, Charlie and Bertie. Bertie knows Lydia, George, Alex, Charlie and Bertie.\n",
    "7. Lydia, Alex and Charlie are women.\n",
    "8. George and Bertie are men.\n",
    "9. Alex wrote a sonata, an etude an a waltz.\n",
    "10. Lydia, Alex, Charlie and Bertie are musicians.\n",
    "\n",
    "Translate this informal description of the world into a model and evaluate the formulae from Questions 3 and 4 in this model. Briefly comment on the answers you get [3 + 2 marks]."
   ]
  },
  {
   "cell_type": "code",
   "execution_count": null,
   "metadata": {},
   "outputs": [],
   "source": [
    "entities = set(['p','t','e','h','r','s','u','l','w','c'])\n",
    "\n",
    "assign = \"\"\"\n",
    "...\n",
    "\"\"\"\n",
    "\n",
    "val2 = nltk.Valuation.fromstring(assign)\n",
    "\n",
    "g2 = nltk.Assignment(entities)\n",
    "m2 = nltk.Model(entities, val2)\n",
    "\n",
    "sentences = [\n",
    "    # Charlie knows a woman who likes George\n",
    "    m2.evaluate('',g2),\n",
    "    ...\n",
    "    m2.evaluate('',g2)]\n",
    "\n",
    "for sentence in sentences:\n",
    "    print(sentence)"
   ]
  },
  {
   "cell_type": "markdown",
   "metadata": {},
   "source": [
    "*Comments on the answers:*"
   ]
  },
  {
   "cell_type": "markdown",
   "metadata": {},
   "source": [
    "## Marks\n",
    "\n",
    "This part of the assignment has a total of 25 marks."
   ]
  }
 ],
 "metadata": {
  "kernelspec": {
   "display_name": "Python 3",
   "language": "python",
   "name": "python3"
  },
  "language_info": {
   "codemirror_mode": {
    "name": "ipython",
    "version": 3
   },
   "file_extension": ".py",
   "mimetype": "text/x-python",
   "name": "python",
   "nbconvert_exporter": "python",
   "pygments_lexer": "ipython3",
   "version": "3.8.1"
  }
 },
 "nbformat": 4,
 "nbformat_minor": 1
}
